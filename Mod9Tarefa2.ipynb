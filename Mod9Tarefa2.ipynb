{
 "cells": [
  {
   "cell_type": "markdown",
   "metadata": {
    "id": "eYvCczy6lTt7"
   },
   "source": [
    "# Livro para consulta:\n",
    "- https://jakevdp.github.io/PythonDataScienceHandbook/03.08-aggregation-and-grouping.html\n",
    "- https://jakevdp.github.io/PythonDataScienceHandbook/03.09-pivot-tables.html\n",
    "    "
   ]
  },
  {
   "cell_type": "markdown",
   "metadata": {
    "id": "oeWprAfnlTt-"
   },
   "source": [
    "# 1. Importando bibliotecas <a name=\"import\"></a>\n",
    "\n",
    "<div style=\"text-align: right\"\n",
    "     \n",
    "[Voltar ao índice](#Contents)"
   ]
  },
  {
   "cell_type": "code",
   "execution_count": 1065,
   "metadata": {
    "ExecuteTime": {
     "end_time": "2021-06-06T21:12:37.298706Z",
     "start_time": "2021-06-06T21:12:36.656481Z"
    },
    "id": "y_9gYudilTt_"
   },
   "outputs": [],
   "source": [
    "import numpy as np\n",
    "import pandas as pd\n",
    "import seaborn as sns\n",
    "import matplotlib.pyplot as plt\n",
    "\n",
    "%matplotlib inline"
   ]
  },
  {
   "cell_type": "code",
   "execution_count": 1067,
   "metadata": {
    "id": "1yNG4iFTlTuA"
   },
   "outputs": [],
   "source": [
    "path = r'C:\\Users\\lucas\\Documents\\Mod_9\\SINASC_RO_2019.csv'"
   ]
  },
  {
   "cell_type": "markdown",
   "metadata": {
    "id": "-cpxC-IBlTuA"
   },
   "source": [
    "# 2. Carregando o dataframe SINASC <a name=\"read\"></a>\n",
    "<div style=\"text-align: right\"\n",
    "     \n",
    "[Voltar ao índice](#Contents)"
   ]
  },
  {
   "cell_type": "code",
   "execution_count": 1070,
   "metadata": {
    "ExecuteTime": {
     "end_time": "2021-06-06T21:12:37.762376Z",
     "start_time": "2021-06-06T21:12:37.728383Z"
    },
    "id": "nQZn7u4DlTuB",
    "outputId": "74b44036-69d9-4139-b291-621d77ed331b",
    "scrolled": true
   },
   "outputs": [
    {
     "data": {
      "text/html": [
       "<div>\n",
       "<style scoped>\n",
       "    .dataframe tbody tr th:only-of-type {\n",
       "        vertical-align: middle;\n",
       "    }\n",
       "\n",
       "    .dataframe tbody tr th {\n",
       "        vertical-align: top;\n",
       "    }\n",
       "\n",
       "    .dataframe thead th {\n",
       "        text-align: right;\n",
       "    }\n",
       "</style>\n",
       "<table border=\"1\" class=\"dataframe\">\n",
       "  <thead>\n",
       "    <tr style=\"text-align: right;\">\n",
       "      <th></th>\n",
       "      <th>ORIGEM</th>\n",
       "      <th>CODESTAB</th>\n",
       "      <th>CODMUNNASC</th>\n",
       "      <th>LOCNASC</th>\n",
       "      <th>IDADEMAE</th>\n",
       "      <th>ESTCIVMAE</th>\n",
       "      <th>ESCMAE</th>\n",
       "      <th>CODOCUPMAE</th>\n",
       "      <th>QTDFILVIVO</th>\n",
       "      <th>QTDFILMORT</th>\n",
       "      <th>...</th>\n",
       "      <th>KOTELCHUCK</th>\n",
       "      <th>CONTADOR</th>\n",
       "      <th>munResStatus</th>\n",
       "      <th>munResTipo</th>\n",
       "      <th>munResNome</th>\n",
       "      <th>munResUf</th>\n",
       "      <th>munResLat</th>\n",
       "      <th>munResLon</th>\n",
       "      <th>munResAlt</th>\n",
       "      <th>munResArea</th>\n",
       "    </tr>\n",
       "  </thead>\n",
       "  <tbody>\n",
       "    <tr>\n",
       "      <th>0</th>\n",
       "      <td>1</td>\n",
       "      <td>2679477.0</td>\n",
       "      <td>110001</td>\n",
       "      <td>1</td>\n",
       "      <td>19</td>\n",
       "      <td>5.0</td>\n",
       "      <td>8 a 11 anos</td>\n",
       "      <td>NaN</td>\n",
       "      <td>0.0</td>\n",
       "      <td>0.0</td>\n",
       "      <td>...</td>\n",
       "      <td>5</td>\n",
       "      <td>1</td>\n",
       "      <td>ATIVO</td>\n",
       "      <td>MUNIC</td>\n",
       "      <td>Alta Floresta D'Oeste</td>\n",
       "      <td>Rondônia</td>\n",
       "      <td>-11.93554</td>\n",
       "      <td>-61.99982</td>\n",
       "      <td>338.0</td>\n",
       "      <td>7067.025</td>\n",
       "    </tr>\n",
       "    <tr>\n",
       "      <th>1</th>\n",
       "      <td>1</td>\n",
       "      <td>2679477.0</td>\n",
       "      <td>110001</td>\n",
       "      <td>1</td>\n",
       "      <td>29</td>\n",
       "      <td>2.0</td>\n",
       "      <td>8 a 11 anos</td>\n",
       "      <td>999992.0</td>\n",
       "      <td>1.0</td>\n",
       "      <td>0.0</td>\n",
       "      <td>...</td>\n",
       "      <td>5</td>\n",
       "      <td>2</td>\n",
       "      <td>ATIVO</td>\n",
       "      <td>MUNIC</td>\n",
       "      <td>Alta Floresta D'Oeste</td>\n",
       "      <td>Rondônia</td>\n",
       "      <td>-11.93554</td>\n",
       "      <td>-61.99982</td>\n",
       "      <td>338.0</td>\n",
       "      <td>7067.025</td>\n",
       "    </tr>\n",
       "    <tr>\n",
       "      <th>2</th>\n",
       "      <td>1</td>\n",
       "      <td>2679477.0</td>\n",
       "      <td>110001</td>\n",
       "      <td>1</td>\n",
       "      <td>37</td>\n",
       "      <td>9.0</td>\n",
       "      <td>8 a 11 anos</td>\n",
       "      <td>513205.0</td>\n",
       "      <td>2.0</td>\n",
       "      <td>0.0</td>\n",
       "      <td>...</td>\n",
       "      <td>5</td>\n",
       "      <td>3</td>\n",
       "      <td>ATIVO</td>\n",
       "      <td>MUNIC</td>\n",
       "      <td>Alta Floresta D'Oeste</td>\n",
       "      <td>Rondônia</td>\n",
       "      <td>-11.93554</td>\n",
       "      <td>-61.99982</td>\n",
       "      <td>338.0</td>\n",
       "      <td>7067.025</td>\n",
       "    </tr>\n",
       "    <tr>\n",
       "      <th>3</th>\n",
       "      <td>1</td>\n",
       "      <td>2516500.0</td>\n",
       "      <td>110001</td>\n",
       "      <td>1</td>\n",
       "      <td>30</td>\n",
       "      <td>5.0</td>\n",
       "      <td>12 anos ou mais</td>\n",
       "      <td>231205.0</td>\n",
       "      <td>0.0</td>\n",
       "      <td>0.0</td>\n",
       "      <td>...</td>\n",
       "      <td>4</td>\n",
       "      <td>4</td>\n",
       "      <td>ATIVO</td>\n",
       "      <td>MUNIC</td>\n",
       "      <td>Alto Alegre dos Parecis</td>\n",
       "      <td>Rondônia</td>\n",
       "      <td>-12.13178</td>\n",
       "      <td>-61.85308</td>\n",
       "      <td>397.0</td>\n",
       "      <td>3958.273</td>\n",
       "    </tr>\n",
       "    <tr>\n",
       "      <th>4</th>\n",
       "      <td>1</td>\n",
       "      <td>2516500.0</td>\n",
       "      <td>110001</td>\n",
       "      <td>1</td>\n",
       "      <td>30</td>\n",
       "      <td>2.0</td>\n",
       "      <td>8 a 11 anos</td>\n",
       "      <td>999992.0</td>\n",
       "      <td>1.0</td>\n",
       "      <td>0.0</td>\n",
       "      <td>...</td>\n",
       "      <td>5</td>\n",
       "      <td>5</td>\n",
       "      <td>ATIVO</td>\n",
       "      <td>MUNIC</td>\n",
       "      <td>Alta Floresta D'Oeste</td>\n",
       "      <td>Rondônia</td>\n",
       "      <td>-11.93554</td>\n",
       "      <td>-61.99982</td>\n",
       "      <td>338.0</td>\n",
       "      <td>7067.025</td>\n",
       "    </tr>\n",
       "  </tbody>\n",
       "</table>\n",
       "<p>5 rows × 69 columns</p>\n",
       "</div>"
      ],
      "text/plain": [
       "   ORIGEM   CODESTAB  CODMUNNASC  LOCNASC  IDADEMAE  ESTCIVMAE  \\\n",
       "0       1  2679477.0      110001        1        19        5.0   \n",
       "1       1  2679477.0      110001        1        29        2.0   \n",
       "2       1  2679477.0      110001        1        37        9.0   \n",
       "3       1  2516500.0      110001        1        30        5.0   \n",
       "4       1  2516500.0      110001        1        30        2.0   \n",
       "\n",
       "            ESCMAE  CODOCUPMAE  QTDFILVIVO  QTDFILMORT  ...  KOTELCHUCK  \\\n",
       "0      8 a 11 anos         NaN         0.0         0.0  ...           5   \n",
       "1      8 a 11 anos    999992.0         1.0         0.0  ...           5   \n",
       "2      8 a 11 anos    513205.0         2.0         0.0  ...           5   \n",
       "3  12 anos ou mais    231205.0         0.0         0.0  ...           4   \n",
       "4      8 a 11 anos    999992.0         1.0         0.0  ...           5   \n",
       "\n",
       "  CONTADOR munResStatus munResTipo               munResNome  munResUf  \\\n",
       "0        1        ATIVO      MUNIC    Alta Floresta D'Oeste  Rondônia   \n",
       "1        2        ATIVO      MUNIC    Alta Floresta D'Oeste  Rondônia   \n",
       "2        3        ATIVO      MUNIC    Alta Floresta D'Oeste  Rondônia   \n",
       "3        4        ATIVO      MUNIC  Alto Alegre dos Parecis  Rondônia   \n",
       "4        5        ATIVO      MUNIC    Alta Floresta D'Oeste  Rondônia   \n",
       "\n",
       "   munResLat munResLon  munResAlt  munResArea  \n",
       "0  -11.93554 -61.99982      338.0    7067.025  \n",
       "1  -11.93554 -61.99982      338.0    7067.025  \n",
       "2  -11.93554 -61.99982      338.0    7067.025  \n",
       "3  -12.13178 -61.85308      397.0    3958.273  \n",
       "4  -11.93554 -61.99982      338.0    7067.025  \n",
       "\n",
       "[5 rows x 69 columns]"
      ]
     },
     "execution_count": 1070,
     "metadata": {},
     "output_type": "execute_result"
    }
   ],
   "source": [
    "sinasc_raw = pd.read_csv(path)\n",
    "sinasc_raw.head()"
   ]
  },
  {
   "cell_type": "markdown",
   "metadata": {
    "id": "9GOoel3-lTuD"
   },
   "source": [
    "# Tarefa 2"
   ]
  },
  {
   "cell_type": "markdown",
   "metadata": {
    "id": "iNNeWswTlTuD"
   },
   "source": [
    "### 1. Crie 2 faixas de Latitude do município (munResLat) sendo uma acima e outra abaixo de -10.5 e aplique o groupby usando essas faixas como chave e realize operações de soma, media, minimo, maximo, mediana, desvio padrao, variancia pra pelo menos 2 variáveis numéricas ainda não utilizadas"
   ]
  },
  {
   "cell_type": "code",
   "execution_count": 1074,
   "metadata": {},
   "outputs": [
    {
     "data": {
      "text/plain": [
       "dtype('float64')"
      ]
     },
     "execution_count": 1074,
     "metadata": {},
     "output_type": "execute_result"
    }
   ],
   "source": [
    "sinasc_raw['APGAR1'].dtypes"
   ]
  },
  {
   "cell_type": "code",
   "execution_count": 1076,
   "metadata": {},
   "outputs": [],
   "source": [
    "sinasc_2 = sinasc_raw[['munResLat', 'munResArea', 'munResAlt']]"
   ]
  },
  {
   "cell_type": "code",
   "execution_count": 1078,
   "metadata": {
    "id": "HXtelNbnlTuE"
   },
   "outputs": [
    {
     "data": {
      "text/plain": [
       "0        (-13.5, -10.5]\n",
       "1        (-13.5, -10.5]\n",
       "2        (-13.5, -10.5]\n",
       "3        (-13.5, -10.5]\n",
       "4        (-13.5, -10.5]\n",
       "              ...      \n",
       "27023    (-13.5, -10.5]\n",
       "27024    (-13.5, -10.5]\n",
       "27025    (-13.5, -10.5]\n",
       "27026    (-13.5, -10.5]\n",
       "27027    (-13.5, -10.5]\n",
       "Name: munResLat, Length: 27028, dtype: category\n",
       "Categories (2, interval[float64, right]): [(-13.5, -10.5] < (-10.5, -8.769]]"
      ]
     },
     "execution_count": 1078,
     "metadata": {},
     "output_type": "execute_result"
    }
   ],
   "source": [
    "latitude = pd.cut(sinasc_2['munResLat'], [-13.49976,-10.5, -8.76889])\n",
    "latitude"
   ]
  },
  {
   "cell_type": "code",
   "execution_count": 1080,
   "metadata": {},
   "outputs": [
    {
     "name": "stderr",
     "output_type": "stream",
     "text": [
      "C:\\Users\\lucas\\AppData\\Local\\Temp\\ipykernel_24580\\3379228058.py:1: FutureWarning: The default of observed=False is deprecated and will be changed to True in a future version of pandas. Pass observed=False to retain current behavior or observed=True to adopt the future default and silence this warning.\n",
      "  result = sinasc_2.groupby(latitude).agg({\n"
     ]
    },
    {
     "data": {
      "text/html": [
       "<div>\n",
       "<style scoped>\n",
       "    .dataframe tbody tr th:only-of-type {\n",
       "        vertical-align: middle;\n",
       "    }\n",
       "\n",
       "    .dataframe tbody tr th {\n",
       "        vertical-align: top;\n",
       "    }\n",
       "\n",
       "    .dataframe thead tr th {\n",
       "        text-align: left;\n",
       "    }\n",
       "\n",
       "    .dataframe thead tr:last-of-type th {\n",
       "        text-align: right;\n",
       "    }\n",
       "</style>\n",
       "<table border=\"1\" class=\"dataframe\">\n",
       "  <thead>\n",
       "    <tr>\n",
       "      <th></th>\n",
       "      <th colspan=\"7\" halign=\"left\">munResAlt</th>\n",
       "      <th colspan=\"7\" halign=\"left\">munResArea</th>\n",
       "    </tr>\n",
       "    <tr>\n",
       "      <th></th>\n",
       "      <th>sum</th>\n",
       "      <th>mean</th>\n",
       "      <th>min</th>\n",
       "      <th>max</th>\n",
       "      <th>median</th>\n",
       "      <th>std</th>\n",
       "      <th>var</th>\n",
       "      <th>sum</th>\n",
       "      <th>mean</th>\n",
       "      <th>min</th>\n",
       "      <th>max</th>\n",
       "      <th>median</th>\n",
       "      <th>std</th>\n",
       "      <th>var</th>\n",
       "    </tr>\n",
       "    <tr>\n",
       "      <th>munResLat</th>\n",
       "      <th></th>\n",
       "      <th></th>\n",
       "      <th></th>\n",
       "      <th></th>\n",
       "      <th></th>\n",
       "      <th></th>\n",
       "      <th></th>\n",
       "      <th></th>\n",
       "      <th></th>\n",
       "      <th></th>\n",
       "      <th></th>\n",
       "      <th></th>\n",
       "      <th></th>\n",
       "      <th></th>\n",
       "    </tr>\n",
       "  </thead>\n",
       "  <tbody>\n",
       "    <tr>\n",
       "      <th>(-13.5, -10.5]</th>\n",
       "      <td>3291565.0</td>\n",
       "      <td>254.903198</td>\n",
       "      <td>133.0</td>\n",
       "      <td>595.0</td>\n",
       "      <td>191.0</td>\n",
       "      <td>140.196000</td>\n",
       "      <td>19654.918293</td>\n",
       "      <td>8.349629e+07</td>\n",
       "      <td>6466.064131</td>\n",
       "      <td>459.978</td>\n",
       "      <td>24855.724</td>\n",
       "      <td>5067.384</td>\n",
       "      <td>5692.080934</td>\n",
       "      <td>3.239979e+07</td>\n",
       "    </tr>\n",
       "    <tr>\n",
       "      <th>(-10.5, -8.769]</th>\n",
       "      <td>1530415.0</td>\n",
       "      <td>109.050520</td>\n",
       "      <td>85.0</td>\n",
       "      <td>192.0</td>\n",
       "      <td>87.0</td>\n",
       "      <td>30.071422</td>\n",
       "      <td>904.290400</td>\n",
       "      <td>3.137711e+08</td>\n",
       "      <td>22357.926110</td>\n",
       "      <td>965.676</td>\n",
       "      <td>34096.394</td>\n",
       "      <td>34096.394</td>\n",
       "      <td>14488.909375</td>\n",
       "      <td>2.099285e+08</td>\n",
       "    </tr>\n",
       "  </tbody>\n",
       "</table>\n",
       "</div>"
      ],
      "text/plain": [
       "                 munResAlt                                               \\\n",
       "                       sum        mean    min    max median         std   \n",
       "munResLat                                                                 \n",
       "(-13.5, -10.5]   3291565.0  254.903198  133.0  595.0  191.0  140.196000   \n",
       "(-10.5, -8.769]  1530415.0  109.050520   85.0  192.0   87.0   30.071422   \n",
       "\n",
       "                                 munResArea                                    \\\n",
       "                          var           sum          mean      min        max   \n",
       "munResLat                                                                       \n",
       "(-13.5, -10.5]   19654.918293  8.349629e+07   6466.064131  459.978  24855.724   \n",
       "(-10.5, -8.769]    904.290400  3.137711e+08  22357.926110  965.676  34096.394   \n",
       "\n",
       "                                                        \n",
       "                    median           std           var  \n",
       "munResLat                                               \n",
       "(-13.5, -10.5]    5067.384   5692.080934  3.239979e+07  \n",
       "(-10.5, -8.769]  34096.394  14488.909375  2.099285e+08  "
      ]
     },
     "execution_count": 1080,
     "metadata": {},
     "output_type": "execute_result"
    }
   ],
   "source": [
    "result = sinasc_2.groupby(latitude).agg({\n",
    "    'munResAlt': ['sum', \n",
    "                  'mean', \n",
    "                  'min', \n",
    "                  'max', \n",
    "                  'median', \n",
    "                  'std',\n",
    "                  'var'\n",
    "                  ],\n",
    "    'munResArea': ['sum', \n",
    "                  'mean', \n",
    "                  'min', \n",
    "                  'max', \n",
    "                  'median', \n",
    "                  'std',\n",
    "                  'var'\n",
    "                  ],\n",
    "})\n",
    "\n",
    "result"
   ]
  },
  {
   "cell_type": "markdown",
   "metadata": {
    "id": "AK33D0mdlTuE"
   },
   "source": [
    "### 2. Crie 2 faixas da área dos municípios (munResArea) sendo uma acima e outra abaixo de 3000 e aplique o groupby usando essas faixas como chave e realize operações de soma, media, minimo, maximo, mediana, desvio padrao, variancia pra pelo menos 2 variáveis numéricas ainda não utilizadas\n"
   ]
  },
  {
   "cell_type": "code",
   "execution_count": 1083,
   "metadata": {
    "id": "qqCXJtYIlTuE"
   },
   "outputs": [],
   "source": [
    "sinasc_3 = sinasc_raw[['APGAR5', 'munResArea', 'APGAR1']]"
   ]
  },
  {
   "cell_type": "code",
   "execution_count": 1085,
   "metadata": {},
   "outputs": [
    {
     "data": {
      "text/plain": [
       "5469       459.978\n",
       "17881      459.978\n",
       "19133      459.978\n",
       "5385       459.978\n",
       "17832      459.978\n",
       "           ...    \n",
       "7348     34096.394\n",
       "20069    34096.394\n",
       "7342     34096.394\n",
       "20709    34096.394\n",
       "1863           NaN\n",
       "Name: munResArea, Length: 27028, dtype: float64"
      ]
     },
     "execution_count": 1085,
     "metadata": {},
     "output_type": "execute_result"
    }
   ],
   "source": [
    "sinasc_3['munResArea'].sort_values()"
   ]
  },
  {
   "cell_type": "code",
   "execution_count": 1087,
   "metadata": {},
   "outputs": [
    {
     "data": {
      "text/plain": [
       "0        (3000.0, 34096.394]\n",
       "1        (3000.0, 34096.394]\n",
       "2        (3000.0, 34096.394]\n",
       "3        (3000.0, 34096.394]\n",
       "4        (3000.0, 34096.394]\n",
       "                ...         \n",
       "27023    (3000.0, 34096.394]\n",
       "27024    (3000.0, 34096.394]\n",
       "27025    (3000.0, 34096.394]\n",
       "27026    (3000.0, 34096.394]\n",
       "27027          (0.0, 3000.0]\n",
       "Name: munResArea, Length: 27028, dtype: category\n",
       "Categories (2, interval[float64, right]): [(0.0, 3000.0] < (3000.0, 34096.394]]"
      ]
     },
     "execution_count": 1087,
     "metadata": {},
     "output_type": "execute_result"
    }
   ],
   "source": [
    "area = pd.cut(sinasc_3['munResArea'], [0, 3000, 34096.394])\n",
    "area"
   ]
  },
  {
   "cell_type": "code",
   "execution_count": 1089,
   "metadata": {},
   "outputs": [
    {
     "name": "stderr",
     "output_type": "stream",
     "text": [
      "C:\\Users\\lucas\\AppData\\Local\\Temp\\ipykernel_24580\\1146351069.py:1: FutureWarning: The default of observed=False is deprecated and will be changed to True in a future version of pandas. Pass observed=False to retain current behavior or observed=True to adopt the future default and silence this warning.\n",
      "  result_2 = sinasc_3.groupby(area).agg({\n"
     ]
    },
    {
     "data": {
      "text/html": [
       "<div>\n",
       "<style scoped>\n",
       "    .dataframe tbody tr th:only-of-type {\n",
       "        vertical-align: middle;\n",
       "    }\n",
       "\n",
       "    .dataframe tbody tr th {\n",
       "        vertical-align: top;\n",
       "    }\n",
       "\n",
       "    .dataframe thead tr th {\n",
       "        text-align: left;\n",
       "    }\n",
       "\n",
       "    .dataframe thead tr:last-of-type th {\n",
       "        text-align: right;\n",
       "    }\n",
       "</style>\n",
       "<table border=\"1\" class=\"dataframe\">\n",
       "  <thead>\n",
       "    <tr>\n",
       "      <th></th>\n",
       "      <th colspan=\"7\" halign=\"left\">APGAR5</th>\n",
       "      <th colspan=\"7\" halign=\"left\">APGAR1</th>\n",
       "    </tr>\n",
       "    <tr>\n",
       "      <th></th>\n",
       "      <th>sum</th>\n",
       "      <th>mean</th>\n",
       "      <th>min</th>\n",
       "      <th>max</th>\n",
       "      <th>median</th>\n",
       "      <th>std</th>\n",
       "      <th>var</th>\n",
       "      <th>sum</th>\n",
       "      <th>mean</th>\n",
       "      <th>min</th>\n",
       "      <th>max</th>\n",
       "      <th>median</th>\n",
       "      <th>std</th>\n",
       "      <th>var</th>\n",
       "    </tr>\n",
       "    <tr>\n",
       "      <th>munResArea</th>\n",
       "      <th></th>\n",
       "      <th></th>\n",
       "      <th></th>\n",
       "      <th></th>\n",
       "      <th></th>\n",
       "      <th></th>\n",
       "      <th></th>\n",
       "      <th></th>\n",
       "      <th></th>\n",
       "      <th></th>\n",
       "      <th></th>\n",
       "      <th></th>\n",
       "      <th></th>\n",
       "      <th></th>\n",
       "    </tr>\n",
       "  </thead>\n",
       "  <tbody>\n",
       "    <tr>\n",
       "      <th>(0.0, 3000.0]</th>\n",
       "      <td>47560.0</td>\n",
       "      <td>9.130351</td>\n",
       "      <td>0.0</td>\n",
       "      <td>10.0</td>\n",
       "      <td>9.0</td>\n",
       "      <td>0.801124</td>\n",
       "      <td>0.641799</td>\n",
       "      <td>42070.0</td>\n",
       "      <td>8.073306</td>\n",
       "      <td>0.0</td>\n",
       "      <td>10.0</td>\n",
       "      <td>8.0</td>\n",
       "      <td>1.008790</td>\n",
       "      <td>1.017658</td>\n",
       "    </tr>\n",
       "    <tr>\n",
       "      <th>(3000.0, 34096.394]</th>\n",
       "      <td>199579.0</td>\n",
       "      <td>9.190836</td>\n",
       "      <td>0.0</td>\n",
       "      <td>10.0</td>\n",
       "      <td>9.0</td>\n",
       "      <td>0.787591</td>\n",
       "      <td>0.620299</td>\n",
       "      <td>177079.0</td>\n",
       "      <td>8.152808</td>\n",
       "      <td>0.0</td>\n",
       "      <td>10.0</td>\n",
       "      <td>8.0</td>\n",
       "      <td>0.978517</td>\n",
       "      <td>0.957495</td>\n",
       "    </tr>\n",
       "  </tbody>\n",
       "</table>\n",
       "</div>"
      ],
      "text/plain": [
       "                       APGAR5                                                  \\\n",
       "                          sum      mean  min   max median       std       var   \n",
       "munResArea                                                                      \n",
       "(0.0, 3000.0]         47560.0  9.130351  0.0  10.0    9.0  0.801124  0.641799   \n",
       "(3000.0, 34096.394]  199579.0  9.190836  0.0  10.0    9.0  0.787591  0.620299   \n",
       "\n",
       "                       APGAR1                                                  \n",
       "                          sum      mean  min   max median       std       var  \n",
       "munResArea                                                                     \n",
       "(0.0, 3000.0]         42070.0  8.073306  0.0  10.0    8.0  1.008790  1.017658  \n",
       "(3000.0, 34096.394]  177079.0  8.152808  0.0  10.0    8.0  0.978517  0.957495  "
      ]
     },
     "execution_count": 1089,
     "metadata": {},
     "output_type": "execute_result"
    }
   ],
   "source": [
    "result_2 = sinasc_3.groupby(area).agg({\n",
    "    'APGAR5': ['sum', \n",
    "                  'mean', \n",
    "                  'min', \n",
    "                  'max', \n",
    "                  'median', \n",
    "                  'std',\n",
    "                  'var'\n",
    "                  ],\n",
    "    'APGAR1': ['sum', \n",
    "                  'mean', \n",
    "                  'min', \n",
    "                  'max', \n",
    "                  'median', \n",
    "                  'std',\n",
    "                  'var'\n",
    "                  ],\n",
    "})\n",
    "\n",
    "result_2"
   ]
  },
  {
   "cell_type": "markdown",
   "metadata": {
    "id": "aWaljnnxlTuE"
   },
   "source": [
    "### 3. Determine faixas na variável munResAlt e aplique o groupby usando essas faixas como chave e realize operações de soma, media, minimo, maximo, mediana, desvio padrao, variancia pra pelo menos 2 variáveis numéricas ainda não utilizadas"
   ]
  },
  {
   "cell_type": "code",
   "execution_count": 1092,
   "metadata": {},
   "outputs": [
    {
     "data": {
      "text/plain": [
       "Index(['ORIGEM', 'CODESTAB', 'CODMUNNASC', 'LOCNASC', 'IDADEMAE', 'ESTCIVMAE',\n",
       "       'ESCMAE', 'CODOCUPMAE', 'QTDFILVIVO', 'QTDFILMORT', 'CODMUNRES',\n",
       "       'GESTACAO', 'GRAVIDEZ', 'PARTO', 'CONSULTAS', 'DTNASC', 'HORANASC',\n",
       "       'SEXO', 'APGAR1', 'APGAR5', 'RACACOR', 'PESO', 'IDANOMAL', 'DTCADASTRO',\n",
       "       'CODANOMAL', 'NUMEROLOTE', 'VERSAOSIST', 'DTRECEBIM', 'DIFDATA',\n",
       "       'DTRECORIGA', 'NATURALMAE', 'CODMUNNATU', 'CODUFNATU', 'ESCMAE2010',\n",
       "       'SERIESCMAE', 'DTNASCMAE', 'RACACORMAE', 'QTDGESTANT', 'QTDPARTNOR',\n",
       "       'QTDPARTCES', 'IDADEPAI', 'DTULTMENST', 'SEMAGESTAC', 'TPMETESTIM',\n",
       "       'CONSPRENAT', 'MESPRENAT', 'TPAPRESENT', 'STTRABPART', 'STCESPARTO',\n",
       "       'TPNASCASSI', 'TPFUNCRESP', 'TPDOCRESP', 'DTDECLARAC', 'ESCMAEAGR1',\n",
       "       'STDNEPIDEM', 'STDNNOVA', 'CODPAISRES', 'TPROBSON', 'PARIDADE',\n",
       "       'KOTELCHUCK', 'CONTADOR', 'munResStatus', 'munResTipo', 'munResNome',\n",
       "       'munResUf', 'munResLat', 'munResLon', 'munResAlt', 'munResArea'],\n",
       "      dtype='object')"
      ]
     },
     "execution_count": 1092,
     "metadata": {},
     "output_type": "execute_result"
    }
   ],
   "source": [
    "sinasc_raw.columns"
   ]
  },
  {
   "cell_type": "code",
   "execution_count": 1094,
   "metadata": {},
   "outputs": [],
   "source": [
    "sinasc_3 = sinasc_raw[['munResAlt', 'CONSULTAS', 'QTDPARTNOR']]"
   ]
  },
  {
   "cell_type": "code",
   "execution_count": 1096,
   "metadata": {},
   "outputs": [
    {
     "data": {
      "text/plain": [
       "7521      85.0\n",
       "8786      85.0\n",
       "23937     85.0\n",
       "10277     85.0\n",
       "10275     85.0\n",
       "         ...  \n",
       "25794    595.0\n",
       "25793    595.0\n",
       "25807    595.0\n",
       "11557    595.0\n",
       "1863       NaN\n",
       "Name: munResAlt, Length: 27028, dtype: float64"
      ]
     },
     "execution_count": 1096,
     "metadata": {},
     "output_type": "execute_result"
    }
   ],
   "source": [
    "sinasc_3['munResAlt'].sort_values()"
   ]
  },
  {
   "cell_type": "code",
   "execution_count": 1098,
   "metadata": {},
   "outputs": [
    {
     "data": {
      "text/plain": [
       "0        (153.0, 595.0]\n",
       "1        (153.0, 595.0]\n",
       "2        (153.0, 595.0]\n",
       "3        (153.0, 595.0]\n",
       "4        (153.0, 595.0]\n",
       "              ...      \n",
       "27023    (153.0, 595.0]\n",
       "27024    (153.0, 595.0]\n",
       "27025    (153.0, 595.0]\n",
       "27026    (153.0, 595.0]\n",
       "27027    (153.0, 595.0]\n",
       "Name: munResAlt, Length: 27028, dtype: category\n",
       "Categories (2, interval[float64, right]): [(84.999, 153.0] < (153.0, 595.0]]"
      ]
     },
     "execution_count": 1098,
     "metadata": {},
     "output_type": "execute_result"
    }
   ],
   "source": [
    "altitude = pd.qcut(sinasc_3['munResAlt'], 2)\n",
    "altitude"
   ]
  },
  {
   "cell_type": "code",
   "execution_count": 1100,
   "metadata": {},
   "outputs": [
    {
     "name": "stderr",
     "output_type": "stream",
     "text": [
      "C:\\Users\\lucas\\AppData\\Local\\Temp\\ipykernel_24580\\3896222965.py:1: FutureWarning: The default of observed=False is deprecated and will be changed to True in a future version of pandas. Pass observed=False to retain current behavior or observed=True to adopt the future default and silence this warning.\n",
      "  result_3 = sinasc_3.groupby(altitude).agg({\n"
     ]
    },
    {
     "data": {
      "text/html": [
       "<div>\n",
       "<style scoped>\n",
       "    .dataframe tbody tr th:only-of-type {\n",
       "        vertical-align: middle;\n",
       "    }\n",
       "\n",
       "    .dataframe tbody tr th {\n",
       "        vertical-align: top;\n",
       "    }\n",
       "\n",
       "    .dataframe thead tr th {\n",
       "        text-align: left;\n",
       "    }\n",
       "\n",
       "    .dataframe thead tr:last-of-type th {\n",
       "        text-align: right;\n",
       "    }\n",
       "</style>\n",
       "<table border=\"1\" class=\"dataframe\">\n",
       "  <thead>\n",
       "    <tr>\n",
       "      <th></th>\n",
       "      <th colspan=\"7\" halign=\"left\">CONSULTAS</th>\n",
       "      <th colspan=\"7\" halign=\"left\">QTDPARTNOR</th>\n",
       "    </tr>\n",
       "    <tr>\n",
       "      <th></th>\n",
       "      <th>sum</th>\n",
       "      <th>mean</th>\n",
       "      <th>min</th>\n",
       "      <th>max</th>\n",
       "      <th>median</th>\n",
       "      <th>std</th>\n",
       "      <th>var</th>\n",
       "      <th>sum</th>\n",
       "      <th>mean</th>\n",
       "      <th>min</th>\n",
       "      <th>max</th>\n",
       "      <th>median</th>\n",
       "      <th>std</th>\n",
       "      <th>var</th>\n",
       "    </tr>\n",
       "    <tr>\n",
       "      <th>munResAlt</th>\n",
       "      <th></th>\n",
       "      <th></th>\n",
       "      <th></th>\n",
       "      <th></th>\n",
       "      <th></th>\n",
       "      <th></th>\n",
       "      <th></th>\n",
       "      <th></th>\n",
       "      <th></th>\n",
       "      <th></th>\n",
       "      <th></th>\n",
       "      <th></th>\n",
       "      <th></th>\n",
       "      <th></th>\n",
       "    </tr>\n",
       "  </thead>\n",
       "  <tbody>\n",
       "    <tr>\n",
       "      <th>(84.999, 153.0]</th>\n",
       "      <td>46579</td>\n",
       "      <td>3.419395</td>\n",
       "      <td>1</td>\n",
       "      <td>9</td>\n",
       "      <td>4.0</td>\n",
       "      <td>0.910623</td>\n",
       "      <td>0.829234</td>\n",
       "      <td>9307.0</td>\n",
       "      <td>0.780527</td>\n",
       "      <td>0.0</td>\n",
       "      <td>40.0</td>\n",
       "      <td>0.0</td>\n",
       "      <td>1.362645</td>\n",
       "      <td>1.856801</td>\n",
       "    </tr>\n",
       "    <tr>\n",
       "      <th>(153.0, 595.0]</th>\n",
       "      <td>50083</td>\n",
       "      <td>3.736143</td>\n",
       "      <td>1</td>\n",
       "      <td>9</td>\n",
       "      <td>4.0</td>\n",
       "      <td>0.599894</td>\n",
       "      <td>0.359873</td>\n",
       "      <td>5264.0</td>\n",
       "      <td>0.398064</td>\n",
       "      <td>0.0</td>\n",
       "      <td>41.0</td>\n",
       "      <td>0.0</td>\n",
       "      <td>1.018270</td>\n",
       "      <td>1.036874</td>\n",
       "    </tr>\n",
       "  </tbody>\n",
       "</table>\n",
       "</div>"
      ],
      "text/plain": [
       "                CONSULTAS                                               \\\n",
       "                      sum      mean min max median       std       var   \n",
       "munResAlt                                                                \n",
       "(84.999, 153.0]     46579  3.419395   1   9    4.0  0.910623  0.829234   \n",
       "(153.0, 595.0]      50083  3.736143   1   9    4.0  0.599894  0.359873   \n",
       "\n",
       "                QTDPARTNOR                                                  \n",
       "                       sum      mean  min   max median       std       var  \n",
       "munResAlt                                                                   \n",
       "(84.999, 153.0]     9307.0  0.780527  0.0  40.0    0.0  1.362645  1.856801  \n",
       "(153.0, 595.0]      5264.0  0.398064  0.0  41.0    0.0  1.018270  1.036874  "
      ]
     },
     "execution_count": 1100,
     "metadata": {},
     "output_type": "execute_result"
    }
   ],
   "source": [
    "result_3 = sinasc_3.groupby(altitude).agg({\n",
    "    'CONSULTAS': ['sum', \n",
    "                  'mean', \n",
    "                  'min', \n",
    "                  'max', \n",
    "                  'median', \n",
    "                  'std',\n",
    "                  'var'\n",
    "                  ],\n",
    "    'QTDPARTNOR': ['sum', \n",
    "                  'mean', \n",
    "                  'min', \n",
    "                  'max', \n",
    "                  'median', \n",
    "                  'std',\n",
    "                  'var'\n",
    "                  ],\n",
    "})\n",
    "\n",
    "result_3"
   ]
  },
  {
   "cell_type": "markdown",
   "metadata": {
    "id": "aF1riawJlTuF"
   },
   "source": [
    "### 4. Plote no mesmo grafico ao longo do tempo a idade media das mulheres de cada regiao imediatas de rondonia\n"
   ]
  },
  {
   "cell_type": "code",
   "execution_count": 1103,
   "metadata": {
    "id": "6aZM5xKale9c"
   },
   "outputs": [],
   "source": [
    "imediatas = {\n",
    "    \"Candeias do Jamari\": \"Porto Velho\",\n",
    "    \"Guajará-Mirim\": \"Porto Velho\",\n",
    "    \"Itapuã do Oeste\": \"Porto Velho\",\n",
    "    \"Nova Mamoré\": \"Porto Velho\",\n",
    "    \"Porto Velho\": \"Porto Velho\",\n",
    "    \"Ariquemes\": \"Ariquemes\",\n",
    "    \"Alto Paraíso\": \"Ariquemes\",\n",
    "    \"Buritis\": \"Ariquemes\",\n",
    "    \"Cacaulândia\": \"Ariquemes\",\n",
    "    \"Campo Novo de Rondônia\": \"Ariquemes\",\n",
    "    \"Cujubim\": \"Ariquemes\",\n",
    "    \"Monte Negro\": \"Ariquemes\",\n",
    "    \"Rio Crespo\": \"Ariquemes\",\n",
    "    \"Jaru\": \"Jaru\",\n",
    "    \"Governador Jorge Teixeira\": \"Jaru\",\n",
    "    \"Machadinho D'Oeste\": \"Jaru\",\n",
    "    \"Theobroma\": \"Jaru\",\n",
    "    \"Vale do Anari\": \"Jaru\",\n",
    "    \"Alvorada D'Oeste\": \"Ji-Paraná\",\n",
    "    \"Costa Marques\": \"Ji-Paraná\",\n",
    "    \"Ji-Paraná\": \"Ji-Paraná\",\n",
    "    \"Mirante da Serra\": \"Ji-Paraná\",\n",
    "    \"Nova União\": \"Ji-Paraná\",\n",
    "    \"Ouro Preto do Oeste\": \"Ji-Paraná\",\n",
    "    \"Presidente Médici\": \"Ji-Paraná\",\n",
    "    \"São Francisco do Guaporé\": \"Ji-Paraná\",\n",
    "    \"São Miguel do Guaporé\": \"Ji-Paraná\",\n",
    "    \"Seringueiras\": \"Ji-Paraná\",\n",
    "    \"Teixeirópolis\": \"Ji-Paraná\",\n",
    "    \"Urupá\": \"Ji-Paraná\",\n",
    "    \"Vale do Paraíso\": \"Ji-Paraná\",\n",
    "    \"Cacoal\": \"Cacoal\",\n",
    "    \"Alta Floresta D'Oeste\": \"Cacoal\",\n",
    "    \"Alto Alegre dos Parecis\": \"Cacoal\",\n",
    "    \"Castanheiras\": \"Cacoal\",\n",
    "    \"Espigão D'Oeste\": \"Cacoal\",\n",
    "    \"Ministro Andreazza\": \"Cacoal\",\n",
    "    \"Nova Brasilândia D'Oeste\": \"Cacoal\",\n",
    "    \"Novo Horizonte do Oeste\": \"Cacoal\",\n",
    "    \"Parecis\": \"Cacoal\",\n",
    "    \"Pimenta Bueno\": \"Cacoal\",\n",
    "    \"Primavera de Rondônia\": \"Cacoal\",\n",
    "    \"Rolim de Moura\": \"Cacoal\",\n",
    "    \"Santa Luzia D'Oeste\": \"Cacoal\",\n",
    "    \"São Felipe D'Oeste\": \"Cacoal\",\n",
    "    \"Vilhena\": \"Vilhena\",\n",
    "    \"Cabixi\": \"Vilhena\",\n",
    "    \"Cerejeiras\": \"Vilhena\",\n",
    "    \"Chupinguaia\": \"Vilhena\",\n",
    "    \"Colorado do Oeste\": \"Vilhena\",\n",
    "    \"Corumbiara\": \"Vilhena\",\n",
    "    \"Pimenteiras do Oeste\": \"Vilhena\"\n",
    "}"
   ]
  },
  {
   "cell_type": "code",
   "execution_count": 1105,
   "metadata": {},
   "outputs": [
    {
     "data": {
      "text/plain": [
       "Index(['ORIGEM', 'CODESTAB', 'CODMUNNASC', 'LOCNASC', 'IDADEMAE', 'ESTCIVMAE',\n",
       "       'ESCMAE', 'CODOCUPMAE', 'QTDFILVIVO', 'QTDFILMORT', 'CODMUNRES',\n",
       "       'GESTACAO', 'GRAVIDEZ', 'PARTO', 'CONSULTAS', 'DTNASC', 'HORANASC',\n",
       "       'SEXO', 'APGAR1', 'APGAR5', 'RACACOR', 'PESO', 'IDANOMAL', 'DTCADASTRO',\n",
       "       'CODANOMAL', 'NUMEROLOTE', 'VERSAOSIST', 'DTRECEBIM', 'DIFDATA',\n",
       "       'DTRECORIGA', 'NATURALMAE', 'CODMUNNATU', 'CODUFNATU', 'ESCMAE2010',\n",
       "       'SERIESCMAE', 'DTNASCMAE', 'RACACORMAE', 'QTDGESTANT', 'QTDPARTNOR',\n",
       "       'QTDPARTCES', 'IDADEPAI', 'DTULTMENST', 'SEMAGESTAC', 'TPMETESTIM',\n",
       "       'CONSPRENAT', 'MESPRENAT', 'TPAPRESENT', 'STTRABPART', 'STCESPARTO',\n",
       "       'TPNASCASSI', 'TPFUNCRESP', 'TPDOCRESP', 'DTDECLARAC', 'ESCMAEAGR1',\n",
       "       'STDNEPIDEM', 'STDNNOVA', 'CODPAISRES', 'TPROBSON', 'PARIDADE',\n",
       "       'KOTELCHUCK', 'CONTADOR', 'munResStatus', 'munResTipo', 'munResNome',\n",
       "       'munResUf', 'munResLat', 'munResLon', 'munResAlt', 'munResArea'],\n",
       "      dtype='object')"
      ]
     },
     "execution_count": 1105,
     "metadata": {},
     "output_type": "execute_result"
    }
   ],
   "source": [
    "sinasc_raw.columns"
   ]
  },
  {
   "cell_type": "code",
   "execution_count": 1107,
   "metadata": {},
   "outputs": [],
   "source": [
    "sinasc_4 = sinasc_raw[['IDADEMAE', 'DTNASC', 'munResNome']]"
   ]
  },
  {
   "cell_type": "code",
   "execution_count": 1109,
   "metadata": {},
   "outputs": [
    {
     "name": "stderr",
     "output_type": "stream",
     "text": [
      "C:\\Users\\lucas\\AppData\\Local\\Temp\\ipykernel_24580\\424057382.py:1: SettingWithCopyWarning: \n",
      "A value is trying to be set on a copy of a slice from a DataFrame.\n",
      "Try using .loc[row_indexer,col_indexer] = value instead\n",
      "\n",
      "See the caveats in the documentation: https://pandas.pydata.org/pandas-docs/stable/user_guide/indexing.html#returning-a-view-versus-a-copy\n",
      "  sinasc_4['REGIAO'] = sinasc_4['munResNome'].map(imediatas)\n"
     ]
    }
   ],
   "source": [
    "sinasc_4['REGIAO'] = sinasc_4['munResNome'].map(imediatas)"
   ]
  },
  {
   "cell_type": "code",
   "execution_count": 1111,
   "metadata": {},
   "outputs": [],
   "source": [
    "idade_media = sinasc_4.groupby(['REGIAO', 'DTNASC'])['IDADEMAE'].mean().reset_index()"
   ]
  },
  {
   "cell_type": "code",
   "execution_count": 1113,
   "metadata": {},
   "outputs": [],
   "source": [
    "plt.figure(figsize=[10, 6])\n",
    "for regiao in idade_media['REGIAO'].unique():\n",
    "    dados_regiao = idade_media[idade_media['REGIAO'] == regiao]\n",
    "    plt.plot(dados_regiao['DTNASC'], dados_regiao['IDADEMAE'], label=regiao)"
   ]
  },
  {
   "cell_type": "code",
   "execution_count": 1114,
   "metadata": {},
   "outputs": [
    {
     "data": {
      "image/png": "[encoded data removed]",
      "text/plain": [
       "<Figure size 1000x600 with 1 Axes>"
      ]
     },
     "metadata": {},
     "output_type": "display_data"
    }
   ],
   "source": [
    "plt.title('Idade Média das Mulheres por Região Imediata de Rondônia ao Longo do Tempo')\n",
    "plt.xlabel('DTNASC')\n",
    "plt.ylabel('Idade Média das Mães')\n",
    "plt.legend(title=\"Regiões\")\n",
    "\n",
    "plt.grid(True)\n",
    "plt.show()"
   ]
  },
  {
   "cell_type": "markdown",
   "metadata": {
    "id": "yt-LIWxblTuF"
   },
   "source": [
    "### 5. Utilize a tabela do link abaixo e crie faixas utilizando o mapping e gere agrupamentos utilizando essas faixas como chave\n"
   ]
  },
  {
   "cell_type": "markdown",
   "metadata": {
    "id": "moZakjgIlTuF"
   },
   "source": [
    "### 5.1 IDH\n",
    "A - https://pt.wikipedia.org/wiki/Lista_de_munic%C3%ADpios_de_Rond%C3%B4nia_por_IDH-M\n"
   ]
  },
  {
   "cell_type": "code",
   "execution_count": 1117,
   "metadata": {
    "id": "DaJk66_BlTuF"
   },
   "outputs": [],
   "source": [
    "url = \"https://pt.wikipedia.org/wiki/Lista_de_munic%C3%ADpios_de_Rond%C3%B4nia_por_IDH-M\""
   ]
  },
  {
   "cell_type": "code",
   "execution_count": 1118,
   "metadata": {},
   "outputs": [],
   "source": [
    "tables = pd.read_html(url)\n",
    "idh_table = tables[0]"
   ]
  },
  {
   "cell_type": "code",
   "execution_count": 1120,
   "metadata": {},
   "outputs": [],
   "source": [
    "idh_table.columns = ['Posição', 'Município', 'IDH', 'IDH_Renda', 'IDH_Longevidade', 'IDH_Educação']"
   ]
  },
  {
   "cell_type": "code",
   "execution_count": 1121,
   "metadata": {},
   "outputs": [],
   "source": [
    "idh_table = idh_table[['Posição', 'Município', 'IDH']].copy()"
   ]
  },
  {
   "cell_type": "code",
   "execution_count": 1122,
   "metadata": {},
   "outputs": [],
   "source": [
    "idh_table.loc[:, 'IDH'] = pd.to_numeric(idh_table['IDH'], errors='coerce')"
   ]
  },
  {
   "cell_type": "code",
   "execution_count": 1137,
   "metadata": {},
   "outputs": [],
   "source": [
    "idh_table.dropna(subset=['IDH'], inplace=True)"
   ]
  },
  {
   "cell_type": "code",
   "execution_count": 1139,
   "metadata": {},
   "outputs": [],
   "source": [
    "def categorize_idh(idh):\n",
    "   if idh <= 0.500:\n",
    "       return \"Muito Baixo\"\n",
    "   elif idh <= 0.600:\n",
    "       return \"Baixo\"\n",
    "   elif idh <= 0.700:\n",
    "       return \"Médio\"\n",
    "   elif idh <= 0.800:\n",
    "       return \"Alto\"\n",
    "   else:\n",
    "       return \"Muito Alto\""
   ]
  },
  {
   "cell_type": "code",
   "execution_count": 1141,
   "metadata": {},
   "outputs": [],
   "source": [
    "idh_table.loc[:, 'Faixa_IDH'] = idh_table['IDH'].apply(categorize_idh)"
   ]
  },
  {
   "cell_type": "code",
   "execution_count": 1143,
   "metadata": {},
   "outputs": [
    {
     "data": {
      "text/html": [
       "<div>\n",
       "<style scoped>\n",
       "    .dataframe tbody tr th:only-of-type {\n",
       "        vertical-align: middle;\n",
       "    }\n",
       "\n",
       "    .dataframe tbody tr th {\n",
       "        vertical-align: top;\n",
       "    }\n",
       "\n",
       "    .dataframe thead th {\n",
       "        text-align: right;\n",
       "    }\n",
       "</style>\n",
       "<table border=\"1\" class=\"dataframe\">\n",
       "  <thead>\n",
       "    <tr style=\"text-align: right;\">\n",
       "      <th></th>\n",
       "      <th>Município</th>\n",
       "      <th>IDH</th>\n",
       "      <th>Faixa_IDH</th>\n",
       "    </tr>\n",
       "  </thead>\n",
       "  <tbody>\n",
       "    <tr>\n",
       "      <th>2</th>\n",
       "      <td>Porto Velho</td>\n",
       "      <td>0.736</td>\n",
       "      <td>Alto</td>\n",
       "    </tr>\n",
       "    <tr>\n",
       "      <th>3</th>\n",
       "      <td>Vilhena</td>\n",
       "      <td>0.731</td>\n",
       "      <td>Alto</td>\n",
       "    </tr>\n",
       "    <tr>\n",
       "      <th>4</th>\n",
       "      <td>Cacoal</td>\n",
       "      <td>0.718</td>\n",
       "      <td>Alto</td>\n",
       "    </tr>\n",
       "    <tr>\n",
       "      <th>5</th>\n",
       "      <td>Ji-Paraná</td>\n",
       "      <td>0.714</td>\n",
       "      <td>Alto</td>\n",
       "    </tr>\n",
       "    <tr>\n",
       "      <th>6</th>\n",
       "      <td>Pimenta Bueno</td>\n",
       "      <td>0.71</td>\n",
       "      <td>Alto</td>\n",
       "    </tr>\n",
       "  </tbody>\n",
       "</table>\n",
       "</div>"
      ],
      "text/plain": [
       "       Município    IDH Faixa_IDH\n",
       "2    Porto Velho  0.736      Alto\n",
       "3        Vilhena  0.731      Alto\n",
       "4         Cacoal  0.718      Alto\n",
       "5      Ji-Paraná  0.714      Alto\n",
       "6  Pimenta Bueno   0.71      Alto"
      ]
     },
     "execution_count": 1143,
     "metadata": {},
     "output_type": "execute_result"
    }
   ],
   "source": [
    "idh_table_classificado = idh_table[['Município', 'IDH', 'Faixa_IDH']]\n",
    "idh_table_classificado.head()"
   ]
  },
  {
   "cell_type": "code",
   "execution_count": 1145,
   "metadata": {},
   "outputs": [
    {
     "data": {
      "text/html": [
       "<div>\n",
       "<style scoped>\n",
       "    .dataframe tbody tr th:only-of-type {\n",
       "        vertical-align: middle;\n",
       "    }\n",
       "\n",
       "    .dataframe tbody tr th {\n",
       "        vertical-align: top;\n",
       "    }\n",
       "\n",
       "    .dataframe thead tr th {\n",
       "        text-align: left;\n",
       "    }\n",
       "\n",
       "    .dataframe thead tr:last-of-type th {\n",
       "        text-align: right;\n",
       "    }\n",
       "</style>\n",
       "<table border=\"1\" class=\"dataframe\">\n",
       "  <thead>\n",
       "    <tr>\n",
       "      <th></th>\n",
       "      <th>Município</th>\n",
       "      <th>IDH</th>\n",
       "    </tr>\n",
       "    <tr>\n",
       "      <th></th>\n",
       "      <th>count</th>\n",
       "      <th>mean</th>\n",
       "    </tr>\n",
       "    <tr>\n",
       "      <th>Faixa_IDH</th>\n",
       "      <th></th>\n",
       "      <th></th>\n",
       "    </tr>\n",
       "  </thead>\n",
       "  <tbody>\n",
       "    <tr>\n",
       "      <th>Alto</th>\n",
       "      <td>6</td>\n",
       "      <td>0.7185</td>\n",
       "    </tr>\n",
       "    <tr>\n",
       "      <th>Baixo</th>\n",
       "      <td>9</td>\n",
       "      <td>0.591333</td>\n",
       "    </tr>\n",
       "    <tr>\n",
       "      <th>Médio</th>\n",
       "      <td>37</td>\n",
       "      <td>0.644784</td>\n",
       "    </tr>\n",
       "  </tbody>\n",
       "</table>\n",
       "</div>"
      ],
      "text/plain": [
       "          Município       IDH\n",
       "              count      mean\n",
       "Faixa_IDH                    \n",
       "Alto              6    0.7185\n",
       "Baixo             9  0.591333\n",
       "Médio            37  0.644784"
      ]
     },
     "execution_count": 1145,
     "metadata": {},
     "output_type": "execute_result"
    }
   ],
   "source": [
    "idh_table_classificado.groupby('Faixa_IDH').agg({'Município': ['count'], 'IDH': ['mean']})"
   ]
  },
  {
   "cell_type": "code",
   "execution_count": 1147,
   "metadata": {},
   "outputs": [
    {
     "data": {
      "text/html": [
       "<div>\n",
       "<style scoped>\n",
       "    .dataframe tbody tr th:only-of-type {\n",
       "        vertical-align: middle;\n",
       "    }\n",
       "\n",
       "    .dataframe tbody tr th {\n",
       "        vertical-align: top;\n",
       "    }\n",
       "\n",
       "    .dataframe thead th {\n",
       "        text-align: right;\n",
       "    }\n",
       "</style>\n",
       "<table border=\"1\" class=\"dataframe\">\n",
       "  <thead>\n",
       "    <tr style=\"text-align: right;\">\n",
       "      <th></th>\n",
       "      <th>IDADEMAE</th>\n",
       "      <th>DTNASC</th>\n",
       "      <th>munResNome</th>\n",
       "      <th>REGIAO</th>\n",
       "    </tr>\n",
       "  </thead>\n",
       "  <tbody>\n",
       "    <tr>\n",
       "      <th>0</th>\n",
       "      <td>19</td>\n",
       "      <td>2019-02-19</td>\n",
       "      <td>Alta Floresta D'Oeste</td>\n",
       "      <td>Cacoal</td>\n",
       "    </tr>\n",
       "    <tr>\n",
       "      <th>1</th>\n",
       "      <td>29</td>\n",
       "      <td>2019-02-21</td>\n",
       "      <td>Alta Floresta D'Oeste</td>\n",
       "      <td>Cacoal</td>\n",
       "    </tr>\n",
       "    <tr>\n",
       "      <th>2</th>\n",
       "      <td>37</td>\n",
       "      <td>2019-02-25</td>\n",
       "      <td>Alta Floresta D'Oeste</td>\n",
       "      <td>Cacoal</td>\n",
       "    </tr>\n",
       "    <tr>\n",
       "      <th>3</th>\n",
       "      <td>30</td>\n",
       "      <td>2019-03-20</td>\n",
       "      <td>Alto Alegre dos Parecis</td>\n",
       "      <td>Cacoal</td>\n",
       "    </tr>\n",
       "    <tr>\n",
       "      <th>4</th>\n",
       "      <td>30</td>\n",
       "      <td>2019-03-23</td>\n",
       "      <td>Alta Floresta D'Oeste</td>\n",
       "      <td>Cacoal</td>\n",
       "    </tr>\n",
       "  </tbody>\n",
       "</table>\n",
       "</div>"
      ],
      "text/plain": [
       "   IDADEMAE      DTNASC               munResNome  REGIAO\n",
       "0        19  2019-02-19    Alta Floresta D'Oeste  Cacoal\n",
       "1        29  2019-02-21    Alta Floresta D'Oeste  Cacoal\n",
       "2        37  2019-02-25    Alta Floresta D'Oeste  Cacoal\n",
       "3        30  2019-03-20  Alto Alegre dos Parecis  Cacoal\n",
       "4        30  2019-03-23    Alta Floresta D'Oeste  Cacoal"
      ]
     },
     "execution_count": 1147,
     "metadata": {},
     "output_type": "execute_result"
    }
   ],
   "source": [
    "sinasc_4.head()"
   ]
  },
  {
   "cell_type": "code",
   "execution_count": 1149,
   "metadata": {},
   "outputs": [
    {
     "data": {
      "text/html": [
       "<div>\n",
       "<style scoped>\n",
       "    .dataframe tbody tr th:only-of-type {\n",
       "        vertical-align: middle;\n",
       "    }\n",
       "\n",
       "    .dataframe tbody tr th {\n",
       "        vertical-align: top;\n",
       "    }\n",
       "\n",
       "    .dataframe thead th {\n",
       "        text-align: right;\n",
       "    }\n",
       "</style>\n",
       "<table border=\"1\" class=\"dataframe\">\n",
       "  <thead>\n",
       "    <tr style=\"text-align: right;\">\n",
       "      <th></th>\n",
       "      <th>REGIAO</th>\n",
       "      <th>IDH</th>\n",
       "      <th>Faixa_IDH</th>\n",
       "    </tr>\n",
       "  </thead>\n",
       "  <tbody>\n",
       "    <tr>\n",
       "      <th>2</th>\n",
       "      <td>Porto Velho</td>\n",
       "      <td>0.736</td>\n",
       "      <td>Alto</td>\n",
       "    </tr>\n",
       "    <tr>\n",
       "      <th>3</th>\n",
       "      <td>Vilhena</td>\n",
       "      <td>0.731</td>\n",
       "      <td>Alto</td>\n",
       "    </tr>\n",
       "    <tr>\n",
       "      <th>4</th>\n",
       "      <td>Cacoal</td>\n",
       "      <td>0.718</td>\n",
       "      <td>Alto</td>\n",
       "    </tr>\n",
       "    <tr>\n",
       "      <th>5</th>\n",
       "      <td>Ji-Paraná</td>\n",
       "      <td>0.714</td>\n",
       "      <td>Alto</td>\n",
       "    </tr>\n",
       "    <tr>\n",
       "      <th>6</th>\n",
       "      <td>Pimenta Bueno</td>\n",
       "      <td>0.71</td>\n",
       "      <td>Alto</td>\n",
       "    </tr>\n",
       "  </tbody>\n",
       "</table>\n",
       "</div>"
      ],
      "text/plain": [
       "          REGIAO    IDH Faixa_IDH\n",
       "2    Porto Velho  0.736      Alto\n",
       "3        Vilhena  0.731      Alto\n",
       "4         Cacoal  0.718      Alto\n",
       "5      Ji-Paraná  0.714      Alto\n",
       "6  Pimenta Bueno   0.71      Alto"
      ]
     },
     "execution_count": 1149,
     "metadata": {},
     "output_type": "execute_result"
    }
   ],
   "source": [
    "idh_table_classificado = idh_table_classificado.rename(columns={'Município': 'REGIAO'})\n",
    "idh_table_classificado.head()"
   ]
  },
  {
   "cell_type": "code",
   "execution_count": 1151,
   "metadata": {},
   "outputs": [],
   "source": [
    "sinasc_com_faixa_idh = pd.merge(sinasc_4, idh_table_classificado[['REGIAO', 'Faixa_IDH']], on='REGIAO', how='left')"
   ]
  },
  {
   "cell_type": "code",
   "execution_count": 1153,
   "metadata": {},
   "outputs": [
    {
     "data": {
      "text/html": [
       "<div>\n",
       "<style scoped>\n",
       "    .dataframe tbody tr th:only-of-type {\n",
       "        vertical-align: middle;\n",
       "    }\n",
       "\n",
       "    .dataframe tbody tr th {\n",
       "        vertical-align: top;\n",
       "    }\n",
       "\n",
       "    .dataframe thead th {\n",
       "        text-align: right;\n",
       "    }\n",
       "</style>\n",
       "<table border=\"1\" class=\"dataframe\">\n",
       "  <thead>\n",
       "    <tr style=\"text-align: right;\">\n",
       "      <th></th>\n",
       "      <th>IDADEMAE</th>\n",
       "      <th>DTNASC</th>\n",
       "      <th>munResNome</th>\n",
       "      <th>REGIAO</th>\n",
       "      <th>Faixa_IDH</th>\n",
       "    </tr>\n",
       "  </thead>\n",
       "  <tbody>\n",
       "    <tr>\n",
       "      <th>0</th>\n",
       "      <td>19</td>\n",
       "      <td>2019-02-19</td>\n",
       "      <td>Alta Floresta D'Oeste</td>\n",
       "      <td>Cacoal</td>\n",
       "      <td>Alto</td>\n",
       "    </tr>\n",
       "    <tr>\n",
       "      <th>1</th>\n",
       "      <td>29</td>\n",
       "      <td>2019-02-21</td>\n",
       "      <td>Alta Floresta D'Oeste</td>\n",
       "      <td>Cacoal</td>\n",
       "      <td>Alto</td>\n",
       "    </tr>\n",
       "    <tr>\n",
       "      <th>2</th>\n",
       "      <td>37</td>\n",
       "      <td>2019-02-25</td>\n",
       "      <td>Alta Floresta D'Oeste</td>\n",
       "      <td>Cacoal</td>\n",
       "      <td>Alto</td>\n",
       "    </tr>\n",
       "    <tr>\n",
       "      <th>3</th>\n",
       "      <td>30</td>\n",
       "      <td>2019-03-20</td>\n",
       "      <td>Alto Alegre dos Parecis</td>\n",
       "      <td>Cacoal</td>\n",
       "      <td>Alto</td>\n",
       "    </tr>\n",
       "    <tr>\n",
       "      <th>4</th>\n",
       "      <td>30</td>\n",
       "      <td>2019-03-23</td>\n",
       "      <td>Alta Floresta D'Oeste</td>\n",
       "      <td>Cacoal</td>\n",
       "      <td>Alto</td>\n",
       "    </tr>\n",
       "  </tbody>\n",
       "</table>\n",
       "</div>"
      ],
      "text/plain": [
       "   IDADEMAE      DTNASC               munResNome  REGIAO Faixa_IDH\n",
       "0        19  2019-02-19    Alta Floresta D'Oeste  Cacoal      Alto\n",
       "1        29  2019-02-21    Alta Floresta D'Oeste  Cacoal      Alto\n",
       "2        37  2019-02-25    Alta Floresta D'Oeste  Cacoal      Alto\n",
       "3        30  2019-03-20  Alto Alegre dos Parecis  Cacoal      Alto\n",
       "4        30  2019-03-23    Alta Floresta D'Oeste  Cacoal      Alto"
      ]
     },
     "execution_count": 1153,
     "metadata": {},
     "output_type": "execute_result"
    }
   ],
   "source": [
    "sinasc_com_faixa_idh.head()"
   ]
  },
  {
   "cell_type": "code",
   "execution_count": 1155,
   "metadata": {},
   "outputs": [
    {
     "data": {
      "text/html": [
       "<div>\n",
       "<style scoped>\n",
       "    .dataframe tbody tr th:only-of-type {\n",
       "        vertical-align: middle;\n",
       "    }\n",
       "\n",
       "    .dataframe tbody tr th {\n",
       "        vertical-align: top;\n",
       "    }\n",
       "\n",
       "    .dataframe thead tr th {\n",
       "        text-align: left;\n",
       "    }\n",
       "\n",
       "    .dataframe thead tr:last-of-type th {\n",
       "        text-align: right;\n",
       "    }\n",
       "</style>\n",
       "<table border=\"1\" class=\"dataframe\">\n",
       "  <thead>\n",
       "    <tr>\n",
       "      <th></th>\n",
       "      <th>IDADEMAE</th>\n",
       "      <th>DTNASC</th>\n",
       "    </tr>\n",
       "    <tr>\n",
       "      <th></th>\n",
       "      <th>mean</th>\n",
       "      <th>count</th>\n",
       "    </tr>\n",
       "    <tr>\n",
       "      <th>Faixa_IDH</th>\n",
       "      <th></th>\n",
       "      <th></th>\n",
       "    </tr>\n",
       "  </thead>\n",
       "  <tbody>\n",
       "    <tr>\n",
       "      <th>Alto</th>\n",
       "      <td>26.119358</td>\n",
       "      <td>25344</td>\n",
       "    </tr>\n",
       "    <tr>\n",
       "      <th>Médio</th>\n",
       "      <td>25.708853</td>\n",
       "      <td>1683</td>\n",
       "    </tr>\n",
       "  </tbody>\n",
       "</table>\n",
       "</div>"
      ],
      "text/plain": [
       "            IDADEMAE DTNASC\n",
       "                mean  count\n",
       "Faixa_IDH                  \n",
       "Alto       26.119358  25344\n",
       "Médio      25.708853   1683"
      ]
     },
     "execution_count": 1155,
     "metadata": {},
     "output_type": "execute_result"
    }
   ],
   "source": [
    "sinasc_com_faixa_idh.groupby('Faixa_IDH').agg({'IDADEMAE': ['mean'], 'DTNASC': ['count']})"
   ]
  },
  {
   "cell_type": "markdown",
   "metadata": {
    "id": "zhtI6CxtlTuH"
   },
   "source": [
    "### 5.2 IFDM\n",
    "B - https://pt.wikipedia.org/wiki/Lista_de_munic%C3%ADpios_de_Rond%C3%B4nia_por_IFDM\n"
   ]
  },
  {
   "cell_type": "code",
   "execution_count": 1158,
   "metadata": {
    "id": "1AVkd1M3lTuI"
   },
   "outputs": [],
   "source": [
    "url_ifdm = \"https://pt.wikipedia.org/wiki/Lista_de_munic%C3%ADpios_de_Rond%C3%B4nia_por_IFDM\""
   ]
  },
  {
   "cell_type": "code",
   "execution_count": 1160,
   "metadata": {},
   "outputs": [],
   "source": [
    "tables_ifdm = pd.read_html(url_ifdm)"
   ]
  },
  {
   "cell_type": "code",
   "execution_count": 1161,
   "metadata": {},
   "outputs": [],
   "source": [
    "ifdm_table = tables_ifdm[0]"
   ]
  },
  {
   "cell_type": "code",
   "execution_count": 1162,
   "metadata": {},
   "outputs": [],
   "source": [
    "ifdm_table.columns = ['Posição', 'Município', 'IFDM']"
   ]
  },
  {
   "cell_type": "code",
   "execution_count": 1163,
   "metadata": {},
   "outputs": [],
   "source": [
    "ifdm_table.loc[:, 'IFDM'] = pd.to_numeric(ifdm_table['IFDM'], errors='coerce')"
   ]
  },
  {
   "cell_type": "code",
   "execution_count": 1168,
   "metadata": {},
   "outputs": [],
   "source": [
    "ifdm_table.dropna(subset=['IFDM'], inplace=True)"
   ]
  },
  {
   "cell_type": "code",
   "execution_count": 1169,
   "metadata": {},
   "outputs": [],
   "source": [
    "def categorize_ifdm(ifdm):\n",
    "   if ifdm <= 0.4562:\n",
    "       return \"Muito Baixo\"\n",
    "   elif ifdm <= 0.5973:\n",
    "       return \"Regular\"\n",
    "   elif ifdm <= 0.7746:\n",
    "       return \"Moderado\"\n",
    "   else:\n",
    "       return \"Alto\""
   ]
  },
  {
   "cell_type": "code",
   "execution_count": 1172,
   "metadata": {},
   "outputs": [],
   "source": [
    "ifdm_table.loc[:, 'Faixa_IFDM'] = ifdm_table['IFDM'].apply(categorize_ifdm)"
   ]
  },
  {
   "cell_type": "code",
   "execution_count": 1174,
   "metadata": {},
   "outputs": [
    {
     "data": {
      "text/html": [
       "<div>\n",
       "<style scoped>\n",
       "    .dataframe tbody tr th:only-of-type {\n",
       "        vertical-align: middle;\n",
       "    }\n",
       "\n",
       "    .dataframe tbody tr th {\n",
       "        vertical-align: top;\n",
       "    }\n",
       "\n",
       "    .dataframe thead th {\n",
       "        text-align: right;\n",
       "    }\n",
       "</style>\n",
       "<table border=\"1\" class=\"dataframe\">\n",
       "  <thead>\n",
       "    <tr style=\"text-align: right;\">\n",
       "      <th></th>\n",
       "      <th>Município</th>\n",
       "      <th>IFDM</th>\n",
       "      <th>Faixa_IFDM</th>\n",
       "    </tr>\n",
       "  </thead>\n",
       "  <tbody>\n",
       "    <tr>\n",
       "      <th>2</th>\n",
       "      <td>Ariquemes</td>\n",
       "      <td>0.7746</td>\n",
       "      <td>Moderado</td>\n",
       "    </tr>\n",
       "    <tr>\n",
       "      <th>3</th>\n",
       "      <td>Vilhena</td>\n",
       "      <td>0.7465</td>\n",
       "      <td>Moderado</td>\n",
       "    </tr>\n",
       "    <tr>\n",
       "      <th>4</th>\n",
       "      <td>Pimenta Bueno</td>\n",
       "      <td>0.7383</td>\n",
       "      <td>Moderado</td>\n",
       "    </tr>\n",
       "    <tr>\n",
       "      <th>5</th>\n",
       "      <td>Porto Velho</td>\n",
       "      <td>0.7257</td>\n",
       "      <td>Moderado</td>\n",
       "    </tr>\n",
       "    <tr>\n",
       "      <th>6</th>\n",
       "      <td>Ji-Paraná</td>\n",
       "      <td>0.7117</td>\n",
       "      <td>Moderado</td>\n",
       "    </tr>\n",
       "  </tbody>\n",
       "</table>\n",
       "</div>"
      ],
      "text/plain": [
       "       Município    IFDM Faixa_IFDM\n",
       "2      Ariquemes  0.7746   Moderado\n",
       "3        Vilhena  0.7465   Moderado\n",
       "4  Pimenta Bueno  0.7383   Moderado\n",
       "5    Porto Velho  0.7257   Moderado\n",
       "6      Ji-Paraná  0.7117   Moderado"
      ]
     },
     "execution_count": 1174,
     "metadata": {},
     "output_type": "execute_result"
    }
   ],
   "source": [
    "ifdm_table_classificado = ifdm_table[['Município', 'IFDM', 'Faixa_IFDM']]\n",
    "ifdm_table_classificado.head()"
   ]
  },
  {
   "cell_type": "code",
   "execution_count": 1176,
   "metadata": {},
   "outputs": [
    {
     "data": {
      "text/html": [
       "<div>\n",
       "<style scoped>\n",
       "    .dataframe tbody tr th:only-of-type {\n",
       "        vertical-align: middle;\n",
       "    }\n",
       "\n",
       "    .dataframe tbody tr th {\n",
       "        vertical-align: top;\n",
       "    }\n",
       "\n",
       "    .dataframe thead tr th {\n",
       "        text-align: left;\n",
       "    }\n",
       "\n",
       "    .dataframe thead tr:last-of-type th {\n",
       "        text-align: right;\n",
       "    }\n",
       "</style>\n",
       "<table border=\"1\" class=\"dataframe\">\n",
       "  <thead>\n",
       "    <tr>\n",
       "      <th></th>\n",
       "      <th>Município</th>\n",
       "      <th>IFDM</th>\n",
       "    </tr>\n",
       "    <tr>\n",
       "      <th></th>\n",
       "      <th>count</th>\n",
       "      <th>mean</th>\n",
       "    </tr>\n",
       "    <tr>\n",
       "      <th>Faixa_IFDM</th>\n",
       "      <th></th>\n",
       "      <th></th>\n",
       "    </tr>\n",
       "  </thead>\n",
       "  <tbody>\n",
       "    <tr>\n",
       "      <th>Moderado</th>\n",
       "      <td>26</td>\n",
       "      <td>0.659919</td>\n",
       "    </tr>\n",
       "    <tr>\n",
       "      <th>Muito Baixo</th>\n",
       "      <td>1</td>\n",
       "      <td>0.4562</td>\n",
       "    </tr>\n",
       "    <tr>\n",
       "      <th>Regular</th>\n",
       "      <td>25</td>\n",
       "      <td>0.560368</td>\n",
       "    </tr>\n",
       "  </tbody>\n",
       "</table>\n",
       "</div>"
      ],
      "text/plain": [
       "            Município      IFDM\n",
       "                count      mean\n",
       "Faixa_IFDM                     \n",
       "Moderado           26  0.659919\n",
       "Muito Baixo         1    0.4562\n",
       "Regular            25  0.560368"
      ]
     },
     "execution_count": 1176,
     "metadata": {},
     "output_type": "execute_result"
    }
   ],
   "source": [
    "ifdm_table_classificado.groupby('Faixa_IFDM').agg({'Município': ['count'], 'IFDM': ['mean']})"
   ]
  },
  {
   "cell_type": "code",
   "execution_count": 1178,
   "metadata": {},
   "outputs": [
    {
     "data": {
      "text/html": [
       "<div>\n",
       "<style scoped>\n",
       "    .dataframe tbody tr th:only-of-type {\n",
       "        vertical-align: middle;\n",
       "    }\n",
       "\n",
       "    .dataframe tbody tr th {\n",
       "        vertical-align: top;\n",
       "    }\n",
       "\n",
       "    .dataframe thead th {\n",
       "        text-align: right;\n",
       "    }\n",
       "</style>\n",
       "<table border=\"1\" class=\"dataframe\">\n",
       "  <thead>\n",
       "    <tr style=\"text-align: right;\">\n",
       "      <th></th>\n",
       "      <th>REGIAO</th>\n",
       "      <th>IFDM</th>\n",
       "      <th>Faixa_IFDM</th>\n",
       "    </tr>\n",
       "  </thead>\n",
       "  <tbody>\n",
       "    <tr>\n",
       "      <th>2</th>\n",
       "      <td>Ariquemes</td>\n",
       "      <td>0.7746</td>\n",
       "      <td>Moderado</td>\n",
       "    </tr>\n",
       "    <tr>\n",
       "      <th>3</th>\n",
       "      <td>Vilhena</td>\n",
       "      <td>0.7465</td>\n",
       "      <td>Moderado</td>\n",
       "    </tr>\n",
       "    <tr>\n",
       "      <th>4</th>\n",
       "      <td>Pimenta Bueno</td>\n",
       "      <td>0.7383</td>\n",
       "      <td>Moderado</td>\n",
       "    </tr>\n",
       "    <tr>\n",
       "      <th>5</th>\n",
       "      <td>Porto Velho</td>\n",
       "      <td>0.7257</td>\n",
       "      <td>Moderado</td>\n",
       "    </tr>\n",
       "    <tr>\n",
       "      <th>6</th>\n",
       "      <td>Ji-Paraná</td>\n",
       "      <td>0.7117</td>\n",
       "      <td>Moderado</td>\n",
       "    </tr>\n",
       "  </tbody>\n",
       "</table>\n",
       "</div>"
      ],
      "text/plain": [
       "          REGIAO    IFDM Faixa_IFDM\n",
       "2      Ariquemes  0.7746   Moderado\n",
       "3        Vilhena  0.7465   Moderado\n",
       "4  Pimenta Bueno  0.7383   Moderado\n",
       "5    Porto Velho  0.7257   Moderado\n",
       "6      Ji-Paraná  0.7117   Moderado"
      ]
     },
     "execution_count": 1178,
     "metadata": {},
     "output_type": "execute_result"
    }
   ],
   "source": [
    "ifdm_table_classificado = ifdm_table_classificado.rename(columns={'Município': 'REGIAO'})\n",
    "ifdm_table_classificado.head()"
   ]
  },
  {
   "cell_type": "code",
   "execution_count": 1180,
   "metadata": {},
   "outputs": [
    {
     "data": {
      "text/html": [
       "<div>\n",
       "<style scoped>\n",
       "    .dataframe tbody tr th:only-of-type {\n",
       "        vertical-align: middle;\n",
       "    }\n",
       "\n",
       "    .dataframe tbody tr th {\n",
       "        vertical-align: top;\n",
       "    }\n",
       "\n",
       "    .dataframe thead th {\n",
       "        text-align: right;\n",
       "    }\n",
       "</style>\n",
       "<table border=\"1\" class=\"dataframe\">\n",
       "  <thead>\n",
       "    <tr style=\"text-align: right;\">\n",
       "      <th></th>\n",
       "      <th>IDADEMAE</th>\n",
       "      <th>DTNASC</th>\n",
       "      <th>munResNome</th>\n",
       "      <th>REGIAO</th>\n",
       "      <th>Faixa_IFDM</th>\n",
       "    </tr>\n",
       "  </thead>\n",
       "  <tbody>\n",
       "    <tr>\n",
       "      <th>0</th>\n",
       "      <td>19</td>\n",
       "      <td>2019-02-19</td>\n",
       "      <td>Alta Floresta D'Oeste</td>\n",
       "      <td>Cacoal</td>\n",
       "      <td>Moderado</td>\n",
       "    </tr>\n",
       "    <tr>\n",
       "      <th>1</th>\n",
       "      <td>29</td>\n",
       "      <td>2019-02-21</td>\n",
       "      <td>Alta Floresta D'Oeste</td>\n",
       "      <td>Cacoal</td>\n",
       "      <td>Moderado</td>\n",
       "    </tr>\n",
       "    <tr>\n",
       "      <th>2</th>\n",
       "      <td>37</td>\n",
       "      <td>2019-02-25</td>\n",
       "      <td>Alta Floresta D'Oeste</td>\n",
       "      <td>Cacoal</td>\n",
       "      <td>Moderado</td>\n",
       "    </tr>\n",
       "    <tr>\n",
       "      <th>3</th>\n",
       "      <td>30</td>\n",
       "      <td>2019-03-20</td>\n",
       "      <td>Alto Alegre dos Parecis</td>\n",
       "      <td>Cacoal</td>\n",
       "      <td>Moderado</td>\n",
       "    </tr>\n",
       "    <tr>\n",
       "      <th>4</th>\n",
       "      <td>30</td>\n",
       "      <td>2019-03-23</td>\n",
       "      <td>Alta Floresta D'Oeste</td>\n",
       "      <td>Cacoal</td>\n",
       "      <td>Moderado</td>\n",
       "    </tr>\n",
       "  </tbody>\n",
       "</table>\n",
       "</div>"
      ],
      "text/plain": [
       "   IDADEMAE      DTNASC               munResNome  REGIAO Faixa_IFDM\n",
       "0        19  2019-02-19    Alta Floresta D'Oeste  Cacoal   Moderado\n",
       "1        29  2019-02-21    Alta Floresta D'Oeste  Cacoal   Moderado\n",
       "2        37  2019-02-25    Alta Floresta D'Oeste  Cacoal   Moderado\n",
       "3        30  2019-03-20  Alto Alegre dos Parecis  Cacoal   Moderado\n",
       "4        30  2019-03-23    Alta Floresta D'Oeste  Cacoal   Moderado"
      ]
     },
     "execution_count": 1180,
     "metadata": {},
     "output_type": "execute_result"
    }
   ],
   "source": [
    "sinasc_com_faixa_ifdm = pd.merge(sinasc_4, ifdm_table_classificado[['REGIAO', 'Faixa_IFDM']], on='REGIAO', how='left')\n",
    "sinasc_com_faixa_ifdm.head()"
   ]
  },
  {
   "cell_type": "code",
   "execution_count": 1182,
   "metadata": {},
   "outputs": [
    {
     "data": {
      "text/html": [
       "<div>\n",
       "<style scoped>\n",
       "    .dataframe tbody tr th:only-of-type {\n",
       "        vertical-align: middle;\n",
       "    }\n",
       "\n",
       "    .dataframe tbody tr th {\n",
       "        vertical-align: top;\n",
       "    }\n",
       "\n",
       "    .dataframe thead tr th {\n",
       "        text-align: left;\n",
       "    }\n",
       "\n",
       "    .dataframe thead tr:last-of-type th {\n",
       "        text-align: right;\n",
       "    }\n",
       "</style>\n",
       "<table border=\"1\" class=\"dataframe\">\n",
       "  <thead>\n",
       "    <tr>\n",
       "      <th></th>\n",
       "      <th>IDADEMAE</th>\n",
       "      <th>DTNASC</th>\n",
       "    </tr>\n",
       "    <tr>\n",
       "      <th></th>\n",
       "      <th>mean</th>\n",
       "      <th>count</th>\n",
       "    </tr>\n",
       "    <tr>\n",
       "      <th>Faixa_IFDM</th>\n",
       "      <th></th>\n",
       "      <th></th>\n",
       "    </tr>\n",
       "  </thead>\n",
       "  <tbody>\n",
       "    <tr>\n",
       "      <th>Moderado</th>\n",
       "      <td>26.093795</td>\n",
       "      <td>27027</td>\n",
       "    </tr>\n",
       "  </tbody>\n",
       "</table>\n",
       "</div>"
      ],
      "text/plain": [
       "             IDADEMAE DTNASC\n",
       "                 mean  count\n",
       "Faixa_IFDM                  \n",
       "Moderado    26.093795  27027"
      ]
     },
     "execution_count": 1182,
     "metadata": {},
     "output_type": "execute_result"
    }
   ],
   "source": [
    "sinasc_com_faixa_ifdm.groupby('Faixa_IFDM').agg({'IDADEMAE': ['mean'], 'DTNASC': ['count']})"
   ]
  },
  {
   "cell_type": "markdown",
   "metadata": {
    "id": "BwdS46EWlTuI"
   },
   "source": [
    "### 5.3 PIB\n",
    "C - https://pt.wikipedia.org/wiki/Lista_de_munic%C3%ADpios_de_Rond%C3%B4nia_por_PIB\n"
   ]
  },
  {
   "cell_type": "code",
   "execution_count": 1185,
   "metadata": {},
   "outputs": [],
   "source": [
    "url_PIB = \"https://pt.wikipedia.org/wiki/Lista_de_munic%C3%ADpios_de_Rond%C3%B4nia_por_PIB\""
   ]
  },
  {
   "cell_type": "code",
   "execution_count": 1187,
   "metadata": {},
   "outputs": [],
   "source": [
    "table_pib = pd.read_html(url_PIB)"
   ]
  },
  {
   "cell_type": "code",
   "execution_count": 1188,
   "metadata": {},
   "outputs": [],
   "source": [
    "pib_table = table_pib[0]"
   ]
  },
  {
   "cell_type": "code",
   "execution_count": 1189,
   "metadata": {},
   "outputs": [],
   "source": [
    "pib_table.columns = ['Em 2019', 'Mudança (2014)', 'Município', 'PIB', 'Alteração']"
   ]
  },
  {
   "cell_type": "code",
   "execution_count": 1190,
   "metadata": {},
   "outputs": [
    {
     "data": {
      "text/plain": [
       "Em 2019             int64\n",
       "Mudança (2014)     object\n",
       "Município          object\n",
       "PIB                object\n",
       "Alteração         float64\n",
       "dtype: object"
      ]
     },
     "execution_count": 1190,
     "metadata": {},
     "output_type": "execute_result"
    }
   ],
   "source": [
    "pib_table.dtypes"
   ]
  },
  {
   "cell_type": "code",
   "execution_count": 1191,
   "metadata": {},
   "outputs": [
    {
     "data": {
      "text/html": [
       "<div>\n",
       "<style scoped>\n",
       "    .dataframe tbody tr th:only-of-type {\n",
       "        vertical-align: middle;\n",
       "    }\n",
       "\n",
       "    .dataframe tbody tr th {\n",
       "        vertical-align: top;\n",
       "    }\n",
       "\n",
       "    .dataframe thead th {\n",
       "        text-align: right;\n",
       "    }\n",
       "</style>\n",
       "<table border=\"1\" class=\"dataframe\">\n",
       "  <thead>\n",
       "    <tr style=\"text-align: right;\">\n",
       "      <th></th>\n",
       "      <th>Em 2019</th>\n",
       "      <th>Mudança (2014)</th>\n",
       "      <th>Município</th>\n",
       "      <th>PIB</th>\n",
       "      <th>Alteração</th>\n",
       "    </tr>\n",
       "  </thead>\n",
       "  <tbody>\n",
       "    <tr>\n",
       "      <th>0</th>\n",
       "      <td>1</td>\n",
       "      <td>(0)</td>\n",
       "      <td>Porto Velho</td>\n",
       "      <td>17 912 070</td>\n",
       "      <td>NaN</td>\n",
       "    </tr>\n",
       "    <tr>\n",
       "      <th>1</th>\n",
       "      <td>2</td>\n",
       "      <td>(0)</td>\n",
       "      <td>Ji-Paraná</td>\n",
       "      <td>3 783 972</td>\n",
       "      <td>NaN</td>\n",
       "    </tr>\n",
       "    <tr>\n",
       "      <th>2</th>\n",
       "      <td>3</td>\n",
       "      <td>(0)</td>\n",
       "      <td>Vilhena</td>\n",
       "      <td>2 831 175</td>\n",
       "      <td>NaN</td>\n",
       "    </tr>\n",
       "    <tr>\n",
       "      <th>3</th>\n",
       "      <td>4</td>\n",
       "      <td>(0)</td>\n",
       "      <td>Ariquemes</td>\n",
       "      <td>2 579 830</td>\n",
       "      <td>NaN</td>\n",
       "    </tr>\n",
       "    <tr>\n",
       "      <th>4</th>\n",
       "      <td>5</td>\n",
       "      <td>(0)</td>\n",
       "      <td>Cacoal</td>\n",
       "      <td>2 261 644</td>\n",
       "      <td>NaN</td>\n",
       "    </tr>\n",
       "  </tbody>\n",
       "</table>\n",
       "</div>"
      ],
      "text/plain": [
       "   Em 2019 Mudança (2014)    Município         PIB  Alteração\n",
       "0        1            (0)  Porto Velho  17 912 070        NaN\n",
       "1        2            (0)    Ji-Paraná   3 783 972        NaN\n",
       "2        3            (0)      Vilhena   2 831 175        NaN\n",
       "3        4            (0)    Ariquemes   2 579 830        NaN\n",
       "4        5            (0)       Cacoal   2 261 644        NaN"
      ]
     },
     "execution_count": 1191,
     "metadata": {},
     "output_type": "execute_result"
    }
   ],
   "source": [
    "pib_table.head()"
   ]
  },
  {
   "cell_type": "code",
   "execution_count": 1197,
   "metadata": {},
   "outputs": [],
   "source": [
    "pib_table['PIB'] = pib_table['PIB'].str.replace(' ', '', regex=False)"
   ]
  },
  {
   "cell_type": "code",
   "execution_count": 1198,
   "metadata": {},
   "outputs": [],
   "source": [
    "pib_table.loc[:, 'PIB'] = pd.to_numeric(pib_table['PIB'], errors='coerce')"
   ]
  },
  {
   "cell_type": "code",
   "execution_count": 1201,
   "metadata": {},
   "outputs": [],
   "source": [
    "def categorize_pib(pib):\n",
    "    if pib <= 1000000:\n",
    "        return \"Muito Baixo\"\n",
    "    elif pib <= 2000000:\n",
    "        return \"Baixo\"\n",
    "    elif pib <= 3000000:\n",
    "        return \"Regular\"\n",
    "    elif pib <= 5000000:\n",
    "        return \"Moderado\"\n",
    "    elif pib <= 10000000:\n",
    "        return \"Alto\"\n",
    "    else:\n",
    "        return \"Muito Alto\""
   ]
  },
  {
   "cell_type": "code",
   "execution_count": 1203,
   "metadata": {},
   "outputs": [],
   "source": [
    "pib_table.loc[:, 'Faixa_PIB'] = pib_table['PIB'].apply(categorize_pib)"
   ]
  },
  {
   "cell_type": "code",
   "execution_count": 1205,
   "metadata": {},
   "outputs": [
    {
     "data": {
      "text/html": [
       "<div>\n",
       "<style scoped>\n",
       "    .dataframe tbody tr th:only-of-type {\n",
       "        vertical-align: middle;\n",
       "    }\n",
       "\n",
       "    .dataframe tbody tr th {\n",
       "        vertical-align: top;\n",
       "    }\n",
       "\n",
       "    .dataframe thead th {\n",
       "        text-align: right;\n",
       "    }\n",
       "</style>\n",
       "<table border=\"1\" class=\"dataframe\">\n",
       "  <thead>\n",
       "    <tr style=\"text-align: right;\">\n",
       "      <th></th>\n",
       "      <th>Município</th>\n",
       "      <th>PIB</th>\n",
       "      <th>Faixa_PIB</th>\n",
       "    </tr>\n",
       "  </thead>\n",
       "  <tbody>\n",
       "    <tr>\n",
       "      <th>0</th>\n",
       "      <td>Porto Velho</td>\n",
       "      <td>17912070</td>\n",
       "      <td>Muito Alto</td>\n",
       "    </tr>\n",
       "    <tr>\n",
       "      <th>1</th>\n",
       "      <td>Ji-Paraná</td>\n",
       "      <td>3783972</td>\n",
       "      <td>Moderado</td>\n",
       "    </tr>\n",
       "    <tr>\n",
       "      <th>2</th>\n",
       "      <td>Vilhena</td>\n",
       "      <td>2831175</td>\n",
       "      <td>Regular</td>\n",
       "    </tr>\n",
       "    <tr>\n",
       "      <th>3</th>\n",
       "      <td>Ariquemes</td>\n",
       "      <td>2579830</td>\n",
       "      <td>Regular</td>\n",
       "    </tr>\n",
       "    <tr>\n",
       "      <th>4</th>\n",
       "      <td>Cacoal</td>\n",
       "      <td>2261644</td>\n",
       "      <td>Regular</td>\n",
       "    </tr>\n",
       "  </tbody>\n",
       "</table>\n",
       "</div>"
      ],
      "text/plain": [
       "     Município       PIB   Faixa_PIB\n",
       "0  Porto Velho  17912070  Muito Alto\n",
       "1    Ji-Paraná   3783972    Moderado\n",
       "2      Vilhena   2831175     Regular\n",
       "3    Ariquemes   2579830     Regular\n",
       "4       Cacoal   2261644     Regular"
      ]
     },
     "execution_count": 1205,
     "metadata": {},
     "output_type": "execute_result"
    }
   ],
   "source": [
    "pib_table_classificado = pib_table[['Município', 'PIB', 'Faixa_PIB']]\n",
    "pib_table_classificado.head()"
   ]
  },
  {
   "cell_type": "code",
   "execution_count": 1207,
   "metadata": {},
   "outputs": [
    {
     "data": {
      "text/html": [
       "<div>\n",
       "<style scoped>\n",
       "    .dataframe tbody tr th:only-of-type {\n",
       "        vertical-align: middle;\n",
       "    }\n",
       "\n",
       "    .dataframe tbody tr th {\n",
       "        vertical-align: top;\n",
       "    }\n",
       "\n",
       "    .dataframe thead th {\n",
       "        text-align: right;\n",
       "    }\n",
       "</style>\n",
       "<table border=\"1\" class=\"dataframe\">\n",
       "  <thead>\n",
       "    <tr style=\"text-align: right;\">\n",
       "      <th></th>\n",
       "      <th>REGIAO</th>\n",
       "      <th>PIB</th>\n",
       "      <th>Faixa_PIB</th>\n",
       "    </tr>\n",
       "  </thead>\n",
       "  <tbody>\n",
       "    <tr>\n",
       "      <th>0</th>\n",
       "      <td>Porto Velho</td>\n",
       "      <td>17912070</td>\n",
       "      <td>Muito Alto</td>\n",
       "    </tr>\n",
       "    <tr>\n",
       "      <th>1</th>\n",
       "      <td>Ji-Paraná</td>\n",
       "      <td>3783972</td>\n",
       "      <td>Moderado</td>\n",
       "    </tr>\n",
       "    <tr>\n",
       "      <th>2</th>\n",
       "      <td>Vilhena</td>\n",
       "      <td>2831175</td>\n",
       "      <td>Regular</td>\n",
       "    </tr>\n",
       "    <tr>\n",
       "      <th>3</th>\n",
       "      <td>Ariquemes</td>\n",
       "      <td>2579830</td>\n",
       "      <td>Regular</td>\n",
       "    </tr>\n",
       "    <tr>\n",
       "      <th>4</th>\n",
       "      <td>Cacoal</td>\n",
       "      <td>2261644</td>\n",
       "      <td>Regular</td>\n",
       "    </tr>\n",
       "  </tbody>\n",
       "</table>\n",
       "</div>"
      ],
      "text/plain": [
       "        REGIAO       PIB   Faixa_PIB\n",
       "0  Porto Velho  17912070  Muito Alto\n",
       "1    Ji-Paraná   3783972    Moderado\n",
       "2      Vilhena   2831175     Regular\n",
       "3    Ariquemes   2579830     Regular\n",
       "4       Cacoal   2261644     Regular"
      ]
     },
     "execution_count": 1207,
     "metadata": {},
     "output_type": "execute_result"
    }
   ],
   "source": [
    "pib_table_classificado = pib_table_classificado.rename(columns={'Município': 'REGIAO'})\n",
    "pib_table_classificado.head()"
   ]
  },
  {
   "cell_type": "code",
   "execution_count": 1209,
   "metadata": {},
   "outputs": [
    {
     "data": {
      "text/html": [
       "<div>\n",
       "<style scoped>\n",
       "    .dataframe tbody tr th:only-of-type {\n",
       "        vertical-align: middle;\n",
       "    }\n",
       "\n",
       "    .dataframe tbody tr th {\n",
       "        vertical-align: top;\n",
       "    }\n",
       "\n",
       "    .dataframe thead th {\n",
       "        text-align: right;\n",
       "    }\n",
       "</style>\n",
       "<table border=\"1\" class=\"dataframe\">\n",
       "  <thead>\n",
       "    <tr style=\"text-align: right;\">\n",
       "      <th></th>\n",
       "      <th>IDADEMAE</th>\n",
       "      <th>DTNASC</th>\n",
       "      <th>munResNome</th>\n",
       "      <th>REGIAO</th>\n",
       "      <th>Faixa_PIB</th>\n",
       "      <th>PIB</th>\n",
       "    </tr>\n",
       "  </thead>\n",
       "  <tbody>\n",
       "    <tr>\n",
       "      <th>21443</th>\n",
       "      <td>38</td>\n",
       "      <td>2019-10-25</td>\n",
       "      <td>Porto Velho</td>\n",
       "      <td>Porto Velho</td>\n",
       "      <td>Muito Alto</td>\n",
       "      <td>17912070</td>\n",
       "    </tr>\n",
       "    <tr>\n",
       "      <th>22985</th>\n",
       "      <td>35</td>\n",
       "      <td>2019-08-27</td>\n",
       "      <td>Porto Velho</td>\n",
       "      <td>Porto Velho</td>\n",
       "      <td>Muito Alto</td>\n",
       "      <td>17912070</td>\n",
       "    </tr>\n",
       "    <tr>\n",
       "      <th>7968</th>\n",
       "      <td>23</td>\n",
       "      <td>2019-04-27</td>\n",
       "      <td>Porto Velho</td>\n",
       "      <td>Porto Velho</td>\n",
       "      <td>Muito Alto</td>\n",
       "      <td>17912070</td>\n",
       "    </tr>\n",
       "    <tr>\n",
       "      <th>7969</th>\n",
       "      <td>24</td>\n",
       "      <td>2019-04-29</td>\n",
       "      <td>Porto Velho</td>\n",
       "      <td>Porto Velho</td>\n",
       "      <td>Muito Alto</td>\n",
       "      <td>17912070</td>\n",
       "    </tr>\n",
       "    <tr>\n",
       "      <th>22984</th>\n",
       "      <td>21</td>\n",
       "      <td>2019-08-27</td>\n",
       "      <td>Porto Velho</td>\n",
       "      <td>Porto Velho</td>\n",
       "      <td>Muito Alto</td>\n",
       "      <td>17912070</td>\n",
       "    </tr>\n",
       "    <tr>\n",
       "      <th>...</th>\n",
       "      <td>...</td>\n",
       "      <td>...</td>\n",
       "      <td>...</td>\n",
       "      <td>...</td>\n",
       "      <td>...</td>\n",
       "      <td>...</td>\n",
       "    </tr>\n",
       "    <tr>\n",
       "      <th>3259</th>\n",
       "      <td>19</td>\n",
       "      <td>2019-03-20</td>\n",
       "      <td>Jaru</td>\n",
       "      <td>Jaru</td>\n",
       "      <td>Baixo</td>\n",
       "      <td>1500890</td>\n",
       "    </tr>\n",
       "    <tr>\n",
       "      <th>3260</th>\n",
       "      <td>19</td>\n",
       "      <td>2019-03-20</td>\n",
       "      <td>Governador Jorge Teixeira</td>\n",
       "      <td>Jaru</td>\n",
       "      <td>Baixo</td>\n",
       "      <td>1500890</td>\n",
       "    </tr>\n",
       "    <tr>\n",
       "      <th>3261</th>\n",
       "      <td>36</td>\n",
       "      <td>2019-03-13</td>\n",
       "      <td>Jaru</td>\n",
       "      <td>Jaru</td>\n",
       "      <td>Baixo</td>\n",
       "      <td>1500890</td>\n",
       "    </tr>\n",
       "    <tr>\n",
       "      <th>21398</th>\n",
       "      <td>24</td>\n",
       "      <td>2019-10-19</td>\n",
       "      <td>Machadinho D'Oeste</td>\n",
       "      <td>Jaru</td>\n",
       "      <td>Baixo</td>\n",
       "      <td>1500890</td>\n",
       "    </tr>\n",
       "    <tr>\n",
       "      <th>1863</th>\n",
       "      <td>24</td>\n",
       "      <td>2019-04-03</td>\n",
       "      <td>Município ignorado - RO</td>\n",
       "      <td>NaN</td>\n",
       "      <td>NaN</td>\n",
       "      <td>NaN</td>\n",
       "    </tr>\n",
       "  </tbody>\n",
       "</table>\n",
       "<p>27028 rows × 6 columns</p>\n",
       "</div>"
      ],
      "text/plain": [
       "       IDADEMAE      DTNASC                 munResNome       REGIAO  \\\n",
       "21443        38  2019-10-25                Porto Velho  Porto Velho   \n",
       "22985        35  2019-08-27                Porto Velho  Porto Velho   \n",
       "7968         23  2019-04-27                Porto Velho  Porto Velho   \n",
       "7969         24  2019-04-29                Porto Velho  Porto Velho   \n",
       "22984        21  2019-08-27                Porto Velho  Porto Velho   \n",
       "...         ...         ...                        ...          ...   \n",
       "3259         19  2019-03-20                       Jaru         Jaru   \n",
       "3260         19  2019-03-20  Governador Jorge Teixeira         Jaru   \n",
       "3261         36  2019-03-13                       Jaru         Jaru   \n",
       "21398        24  2019-10-19         Machadinho D'Oeste         Jaru   \n",
       "1863         24  2019-04-03    Município ignorado - RO          NaN   \n",
       "\n",
       "        Faixa_PIB       PIB  \n",
       "21443  Muito Alto  17912070  \n",
       "22985  Muito Alto  17912070  \n",
       "7968   Muito Alto  17912070  \n",
       "7969   Muito Alto  17912070  \n",
       "22984  Muito Alto  17912070  \n",
       "...           ...       ...  \n",
       "3259        Baixo   1500890  \n",
       "3260        Baixo   1500890  \n",
       "3261        Baixo   1500890  \n",
       "21398       Baixo   1500890  \n",
       "1863          NaN       NaN  \n",
       "\n",
       "[27028 rows x 6 columns]"
      ]
     },
     "execution_count": 1209,
     "metadata": {},
     "output_type": "execute_result"
    }
   ],
   "source": [
    "sinasc_com_faixa_pib = pd.merge(sinasc_4, pib_table_classificado[['REGIAO', 'Faixa_PIB', 'PIB']], on='REGIAO', how='left')\n",
    "sinasc_com_faixa_pib.sort_values('PIB', ascending=False)"
   ]
  },
  {
   "cell_type": "code",
   "execution_count": 1211,
   "metadata": {},
   "outputs": [
    {
     "data": {
      "text/html": [
       "<div>\n",
       "<style scoped>\n",
       "    .dataframe tbody tr th:only-of-type {\n",
       "        vertical-align: middle;\n",
       "    }\n",
       "\n",
       "    .dataframe tbody tr th {\n",
       "        vertical-align: top;\n",
       "    }\n",
       "\n",
       "    .dataframe thead tr th {\n",
       "        text-align: left;\n",
       "    }\n",
       "\n",
       "    .dataframe thead tr:last-of-type th {\n",
       "        text-align: right;\n",
       "    }\n",
       "</style>\n",
       "<table border=\"1\" class=\"dataframe\">\n",
       "  <thead>\n",
       "    <tr>\n",
       "      <th></th>\n",
       "      <th>IDADEMAE</th>\n",
       "      <th>DTNASC</th>\n",
       "    </tr>\n",
       "    <tr>\n",
       "      <th></th>\n",
       "      <th>mean</th>\n",
       "      <th>count</th>\n",
       "    </tr>\n",
       "    <tr>\n",
       "      <th>Faixa_PIB</th>\n",
       "      <th></th>\n",
       "      <th></th>\n",
       "    </tr>\n",
       "  </thead>\n",
       "  <tbody>\n",
       "    <tr>\n",
       "      <th>Baixo</th>\n",
       "      <td>25.708853</td>\n",
       "      <td>1683</td>\n",
       "    </tr>\n",
       "    <tr>\n",
       "      <th>Moderado</th>\n",
       "      <td>26.094720</td>\n",
       "      <td>4962</td>\n",
       "    </tr>\n",
       "    <tr>\n",
       "      <th>Muito Alto</th>\n",
       "      <td>26.166303</td>\n",
       "      <td>10096</td>\n",
       "    </tr>\n",
       "    <tr>\n",
       "      <th>Regular</th>\n",
       "      <td>26.085164</td>\n",
       "      <td>10286</td>\n",
       "    </tr>\n",
       "  </tbody>\n",
       "</table>\n",
       "</div>"
      ],
      "text/plain": [
       "             IDADEMAE DTNASC\n",
       "                 mean  count\n",
       "Faixa_PIB                   \n",
       "Baixo       25.708853   1683\n",
       "Moderado    26.094720   4962\n",
       "Muito Alto  26.166303  10096\n",
       "Regular     26.085164  10286"
      ]
     },
     "execution_count": 1211,
     "metadata": {},
     "output_type": "execute_result"
    }
   ],
   "source": [
    "sinasc_com_faixa_pib.groupby('Faixa_PIB').agg({'IDADEMAE': ['mean'], 'DTNASC': ['count']})"
   ]
  },
  {
   "cell_type": "markdown",
   "metadata": {
    "id": "bdWGW_xtlTuI"
   },
   "source": [
    "### Analise as respostas encontradas, tire algum insight delas, conte pra gente algo encontrado nos dados."
   ]
  },
  {
   "cell_type": "markdown",
   "metadata": {
    "id": "shZvokfBlTuI"
   },
   "source": [
    "Exemplo:\n",
    "- Ah, descobri que a idade mediana das mulheres que deram a luz no ano de 2019 dos municipios com o PIB mais alto é a maior dentre todas."
   ]
  },
  {
   "cell_type": "markdown",
   "metadata": {},
   "source": [
    "Foi possivel notar que a idade media das mães, a faixa de IDH e a quantidade de nascimentos são diretamente proporcionais,\n",
    "ou seja, temos mais nascimentos quando as mães ja tem uma media de idade maior em regiões onde o IDH tambem é maior."
   ]
  },
  {
   "cell_type": "code",
   "execution_count": null,
   "metadata": {
    "id": "f8P7BYYglTuJ"
   },
   "outputs": [],
   "source": []
  },
  {
   "cell_type": "code",
   "execution_count": null,
   "metadata": {},
   "outputs": [],
   "source": []
  }
 ],
 "metadata": {
  "colab": {
   "provenance": []
  },
  "kernelspec": {
   "display_name": "Python 3 (ipykernel)",
   "language": "python",
   "name": "python3"
  },
  "language_info": {
   "codemirror_mode": {
    "name": "ipython",
    "version": 3
   },
   "file_extension": ".py",
   "mimetype": "text/x-python",
   "name": "python",
   "nbconvert_exporter": "python",
   "pygments_lexer": "ipython3",
   "version": "3.12.7"
  },
  "varInspector": {
   "cols": {
    "lenName": 16,
    "lenType": 16,
    "lenVar": 40
   },
   "kernels_config": {
    "python": {
     "delete_cmd_postfix": "",
     "delete_cmd_prefix": "del ",
     "library": "var_list.py",
     "varRefreshCmd": "print(var_dic_list())"
    },
    "r": {
     "delete_cmd_postfix": ") ",
     "delete_cmd_prefix": "rm(",
     "library": "var_list.r",
     "varRefreshCmd": "cat(var_dic_list()) "
    }
   },
   "types_to_exclude": [
    "module",
    "function",
    "builtin_function_or_method",
    "instance",
    "_Feature"
   ],
   "window_display": false
  }
 },
 "nbformat": 4,
 "nbformat_minor": 4
}
